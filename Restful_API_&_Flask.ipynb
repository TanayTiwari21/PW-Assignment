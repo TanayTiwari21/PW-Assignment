{
  "nbformat": 4,
  "nbformat_minor": 0,
  "metadata": {
    "colab": {
      "provenance": []
    },
    "kernelspec": {
      "name": "python3",
      "display_name": "Python 3"
    },
    "language_info": {
      "name": "python"
    }
  },
  "cells": [
    {
      "cell_type": "markdown",
      "source": [
        "#Restful API & Flask\n",
        "\n",
        "Q1. What is a RESTful API?\n",
        "\n",
        "Ans: A RESTful API is an API that follows the principles of REST (Representational State Transfer), using HTTP methods like GET, POST, PUT, and DELETE to access and manipulate resources represented in a standardized format such as JSON or XML.\n",
        "\n",
        "Q2. Explain the concept of API specification\n",
        "\n",
        "Ans: An API specification defines how APIs should behave and interact, including endpoints, request/response formats, parameters, authentication methods, and error codes. Common specifications include OpenAPI (formerly Swagger).\n",
        "\n",
        "Q3. What is Flask, and why is it popular for building APIs?\n",
        "\n",
        "Ans: Flask is a lightweight Python web framework used to build web applications and APIs. It is popular because it is easy to learn, flexible, and provides essential tools without enforcing strict conventions.\n",
        "\n",
        "Q4. What is routing in Flask?\n",
        "\n",
        "Ans: Routing is the process of mapping URLs to functions in Flask. Each route defines an endpoint in the web application that triggers a specific function when accessed.\n",
        "\n",
        "Q5. How do you create a simple Flask application?\n",
        "\n",
        "Ans:\n",
        "\n",
        "python\n",
        "Copy code\n",
        "from flask import Flask  \n",
        "app = Flask(__name__)  \n",
        "  \n",
        "@app.route(\"/\")  \n",
        "def home():  \n",
        "    return \"Hello, Flask!\"  \n",
        "  \n",
        "if __name__ == \"__main__\":  \n",
        "    app.run()\n",
        "Q6. What are HTTP methods used in RESTful APIs?\n",
        "\n",
        "Ans:\n",
        "\n",
        "GET: Retrieve data\n",
        "\n",
        "POST: Submit data\n",
        "\n",
        "PUT: Update existing data\n",
        "\n",
        "DELETE: Remove data\n",
        "\n",
        "PATCH: Partially update data\n",
        "\n",
        "Q7. What is the purpose of the @app.route() decorator in Flask?\n",
        "\n",
        "Ans: It defines the URL endpoint and maps it to a function. When a user visits that URL, the decorated function is called.\n",
        "\n",
        "Q8. What is the difference between GET and POST HTTP methods?\n",
        "\n",
        "Ans:\n",
        "\n",
        "GET: Requests data from a server and does not change server state\n",
        "\n",
        "POST: Sends data to the server to create or update a resource\n",
        "\n",
        "Q9. How do you handle errors in Flask APIs?\n",
        "\n",
        "Ans: You can use error handlers with @app.errorhandler() or return custom error messages with appropriate HTTP status codes in the response.\n",
        "\n",
        "Q10. How do you connect Flask to a SQL database?\n",
        "\n",
        "Ans: Use an ORM like SQLAlchemy or a database driver. Example:\n",
        "\n",
        "python\n",
        "Copy code\n",
        "from flask_sqlalchemy import SQLAlchemy  \n",
        "app.config['SQLALCHEMY_DATABASE_URI'] = 'sqlite:///data.db'  \n",
        "db = SQLAlchemy(app)\n",
        "Q11. What is the role of Flask-SQLAlchemy?\n",
        "\n",
        "Ans: Flask-SQLAlchemy is an ORM extension that simplifies interaction with relational databases using Python objects instead of SQL queries.\n",
        "\n",
        "Q12. What are Flask blueprints, and how are they useful?\n",
        "\n",
        "Ans: Blueprints allow you to organize routes and logic into modular components, making larger applications more manageable and reusable.\n",
        "\n",
        "Q13. What is the purpose of Flask's request object?\n",
        "\n",
        "Ans: It holds incoming request data such as form inputs, query parameters, headers, and JSON payloads.\n",
        "\n",
        "Q14. How do you create a RESTful API endpoint using Flask?\n",
        "\n",
        "Ans:\n",
        "\n",
        "python\n",
        "Copy code\n",
        "@app.route(\"/api/data\", methods=[\"GET\"])  \n",
        "def get_data():  \n",
        "    return {\"message\": \"This is a RESTful endpoint\"}\n",
        "\n",
        "Q15. What is the purpose of Flask's jsonify() function?\n",
        "\n",
        "Ans: jsonify() converts Python dictionaries to JSON format and automatically sets the correct content-type header.\n",
        "\n",
        "Q16. Explain Flask’s url_for() function\n",
        "\n",
        "Ans: url_for() generates URLs for routes by their function name, ensuring changes in the route don't break the links.\n",
        "\n",
        "Q17. How does Flask handle static files (CSS, JavaScript, etc.)?\n",
        "\n",
        "Ans: Flask serves static files from a folder named static. Access them using the /static/ URL path.\n",
        "\n",
        "Q18. What is an API specification, and how does it help in building a Flask API?\n",
        "\n",
        "Ans: It documents all API endpoints, request types, input/output formats, and helps ensure consistency, versioning, and easy collaboration.\n",
        "\n",
        "Q19. What are HTTP status codes, and why are they important in a Flask API?\n",
        "\n",
        "Ans: Status codes indicate the result of a request:\n",
        "\n",
        "200: OK\n",
        "\n",
        "201: Created\n",
        "\n",
        "400: Bad Request\n",
        "\n",
        "404: Not Found\n",
        "\n",
        "500: Server Error\n",
        "They help clients understand the result of API interactions.\n",
        "\n",
        "Q20. How do you handle POST requests in Flask?\n",
        "\n",
        "Ans:\n",
        "\n",
        "python\n",
        "Copy code\n",
        "from flask import request  \n",
        "@app.route(\"/submit\", methods=[\"POST\"])  \n",
        "def submit():  \n",
        "    data = request.json  \n",
        "    return {\"received\": data}\n",
        "\n",
        "Q21. How would you secure a Flask API?\n",
        "\n",
        "Ans:\n",
        "\n",
        "Use HTTPS\n",
        "\n",
        "Require authentication tokens (JWT, API keys)\n",
        "\n",
        "Use Flask extensions like Flask-JWT-Extended or Flask-Login\n",
        "\n",
        "Validate inputs and sanitize user data\n",
        "\n",
        "Q22. What is the significance of the Flask-RESTful extension?\n",
        "\n",
        "Ans: Flask-RESTful simplifies building REST APIs by organizing endpoints into resource classes and providing built-in support for parsing and returning data.\n",
        "\n",
        "Q23. What is the role of Flask’s session object?\n",
        "\n",
        "Ans: The session object stores user-specific data between requests, such as login states, using signed cookies for security."
      ],
      "metadata": {
        "id": "utQpK4u8OQYC"
      }
    },
    {
      "cell_type": "code",
      "source": [
        "# Q1. How do you create a basic Flask application\n",
        "from flask import Flask\n",
        "app = Flask(__name__)\n",
        "@app.route(\"/\")\n",
        "def home():\n",
        "    return \"Hello, Flask!\"\n",
        "if __name__ == \"__main__\":\n",
        "    app.run()\n"
      ],
      "metadata": {
        "id": "Mnb-G_y-PPxK"
      },
      "execution_count": null,
      "outputs": []
    },
    {
      "cell_type": "code",
      "source": [
        "# Q2. How do you serve static files like images or CSS in Flask\n",
        "from flask import Flask\n",
        "app = Flask(__name__, static_url_path='/static')\n",
        "@app.route(\"/\")\n",
        "def index():\n",
        "    return '<link rel=\"stylesheet\" href=\"/static/style.css\">'\n",
        "if __name__ == \"__main__\":\n",
        "    app.run()\n"
      ],
      "metadata": {
        "id": "QPN0XFGYPSlR"
      },
      "execution_count": null,
      "outputs": []
    },
    {
      "cell_type": "code",
      "source": [
        "# Q3. How do you define different routes with different HTTP methods in Flask\n",
        "from flask import Flask, request\n",
        "app = Flask(__name__)\n",
        "@app.route('/example', methods=['GET', 'POST'])\n",
        "def example():\n",
        "    if request.method == 'POST':\n",
        "        return \"POST Method\"\n",
        "    return \"GET Method\"\n",
        "if __name__ == \"__main__\":\n",
        "    app.run()\n"
      ],
      "metadata": {
        "id": "L453ThYsPUJx"
      },
      "execution_count": null,
      "outputs": []
    },
    {
      "cell_type": "code",
      "source": [
        "# Q4. How do you render HTML templates in Flask\n",
        "from flask import Flask, render_template\n",
        "app = Flask(__name__)\n",
        "@app.route(\"/\")\n",
        "def home():\n",
        "    return render_template(\"index.html\")\n",
        "if __name__ == \"__main__\":\n",
        "    app.run()\n"
      ],
      "metadata": {
        "id": "ibtIQkUXPWyB"
      },
      "execution_count": null,
      "outputs": []
    },
    {
      "cell_type": "code",
      "source": [
        "# Q5. How can you generate URLs for routes in Flask using url_for\n",
        "from flask import Flask, url_for\n",
        "app = Flask(__name__)\n",
        "@app.route(\"/\")\n",
        "def index():\n",
        "    return url_for('hello')\n",
        "@app.route(\"/hello\")\n",
        "def hello():\n",
        "    return \"Hello!\"\n",
        "if __name__ == \"__main__\":\n",
        "    app.run()\n"
      ],
      "metadata": {
        "id": "h3-qartoPYsp"
      },
      "execution_count": null,
      "outputs": []
    },
    {
      "cell_type": "code",
      "source": [
        "# Q6. How do you handle forms in Flask\n",
        "from flask import Flask, request\n",
        "app = Flask(__name__)\n",
        "@app.route(\"/form\", methods=['GET', 'POST'])\n",
        "def form():\n",
        "    if request.method == 'POST':\n",
        "        return f\"Received: {request.form['name']}\"\n",
        "    return '<form method=\"post\"><input name=\"name\"><input type=\"submit\"></form>'\n",
        "if __name__ == \"__main__\":\n",
        "    app.run()\n"
      ],
      "metadata": {
        "id": "S1a2sToXPa9J"
      },
      "execution_count": null,
      "outputs": []
    },
    {
      "cell_type": "code",
      "source": [
        "# Q7. How can you validate form data in Flask\n",
        "from flask import Flask, request\n",
        "app = Flask(__name__)\n",
        "@app.route(\"/validate\", methods=['POST'])\n",
        "def validate():\n",
        "    name = request.form.get('name')\n",
        "    if not name:\n",
        "        return \"Name is required\"\n",
        "    return f\"Hello {name}\"\n",
        "if __name__ == \"__main__\":\n",
        "    app.run()\n"
      ],
      "metadata": {
        "id": "elg_QkNePciB"
      },
      "execution_count": null,
      "outputs": []
    },
    {
      "cell_type": "code",
      "source": [
        "# Q8. How do you manage sessions in Flask\n",
        "from flask import Flask, session\n",
        "app = Flask(__name__)\n",
        "app.secret_key = \"secret\"\n",
        "@app.route(\"/set\")\n",
        "def set_session():\n",
        "    session['user'] = 'admin'\n",
        "    return \"Session set\"\n",
        "@app.route(\"/get\")\n",
        "def get_session():\n",
        "    return session.get('user', 'Not set')\n",
        "if __name__ == \"__main__\":\n",
        "    app.run()\n"
      ],
      "metadata": {
        "id": "uYXR-K6EPemK"
      },
      "execution_count": null,
      "outputs": []
    },
    {
      "cell_type": "code",
      "source": [
        "# Q9. How do you redirect to a different route in Flask\n",
        "from flask import Flask, redirect, url_for\n",
        "app = Flask(__name__)\n",
        "@app.route(\"/\")\n",
        "def home():\n",
        "    return redirect(url_for('hello'))\n",
        "@app.route(\"/hello\")\n",
        "def hello():\n",
        "    return \"Redirected!\"\n",
        "if __name__ == \"__main__\":\n",
        "    app.run()\n"
      ],
      "metadata": {
        "id": "7Cu4Gp9cPgBS"
      },
      "execution_count": null,
      "outputs": []
    },
    {
      "cell_type": "code",
      "source": [
        "# Q10. How do you handle errors in Flask (e.g., 404)\n",
        "from flask import Flask\n",
        "app = Flask(__name__)\n",
        "@app.errorhandler(404)\n",
        "def not_found(e):\n",
        "    return \"Page not found\", 404\n",
        "if __name__ == \"__main__\":\n",
        "    app.run()\n"
      ],
      "metadata": {
        "id": "0c9OJ_VgPhpw"
      },
      "execution_count": null,
      "outputs": []
    },
    {
      "cell_type": "code",
      "source": [
        "# Q11. How do you structure a Flask app using Blueprints\n",
        "from flask import Flask, Blueprint\n",
        "bp = Blueprint('simple', __name__)\n",
        "@bp.route(\"/hello\")\n",
        "def hello():\n",
        "    return \"Hello from Blueprint\"\n",
        "app = Flask(__name__)\n",
        "app.register_blueprint(bp)\n",
        "if __name__ == \"__main__\":\n",
        "    app.run()\n"
      ],
      "metadata": {
        "id": "tjYi5lc3PjVB"
      },
      "execution_count": null,
      "outputs": []
    },
    {
      "cell_type": "code",
      "source": [
        "# Q12. How do you define a custom Jinja filter in Flask\n",
        "from flask import Flask\n",
        "app = Flask(__name__)\n",
        "@app.template_filter('reverse')\n",
        "def reverse_filter(s):\n",
        "    return s[::-1]\n",
        "@app.route(\"/\")\n",
        "def index():\n",
        "    return \"{{ 'hello'|reverse }}\"\n",
        "if __name__ == \"__main__\":\n",
        "    app.run()\n"
      ],
      "metadata": {
        "id": "P74b0n3-Plpo"
      },
      "execution_count": null,
      "outputs": []
    },
    {
      "cell_type": "code",
      "source": [
        "# Q13. How can you redirect with query parameters in Flask\n",
        "from flask import Flask, redirect, url_for\n",
        "app = Flask(__name__)\n",
        "@app.route(\"/\")\n",
        "def index():\n",
        "    return redirect(url_for('hello', name='User'))\n",
        "@app.route(\"/hello\")\n",
        "def hello():\n",
        "    return \"Hello!\"\n",
        "if __name__ == \"__main__\":\n",
        "    app.run()\n"
      ],
      "metadata": {
        "id": "I48wDf49Pnvp"
      },
      "execution_count": null,
      "outputs": []
    },
    {
      "cell_type": "code",
      "source": [
        "# Q14. How do you return JSON responses in Flask\n",
        "from flask import Flask, jsonify\n",
        "app = Flask(__name__)\n",
        "@app.route(\"/json\")\n",
        "def json_data():\n",
        "    return jsonify({\"message\": \"Hello\", \"status\": \"success\"})\n",
        "if __name__ == \"__main__\":\n",
        "    app.run()\n"
      ],
      "metadata": {
        "id": "BREt03G6Pq7w"
      },
      "execution_count": null,
      "outputs": []
    },
    {
      "cell_type": "code",
      "source": [
        "# Q15. How do you capture URL parameters in Flask?\n",
        "from flask import Flask\n",
        "app = Flask(__name__)\n",
        "@app.route(\"/user/<name>\")\n",
        "def user(name):\n",
        "    return f\"Hello, {name}\"\n",
        "if __name__ == \"__main__\":\n",
        "    app.run()\n"
      ],
      "metadata": {
        "id": "8X7eEFiZPtcR"
      },
      "execution_count": null,
      "outputs": []
    }
  ]
}