{
  "nbformat": 4,
  "nbformat_minor": 0,
  "metadata": {
    "colab": {
      "provenance": []
    },
    "kernelspec": {
      "name": "python3",
      "display_name": "Python 3"
    },
    "language_info": {
      "name": "python"
    }
  },
  "cells": [
    {
      "cell_type": "markdown",
      "source": [
        "Q1) What is a Support Vector Machine (SVM)\n",
        "\n",
        "Ans: SVM is a supervised machine learning algorithm used for classification and regression.\n",
        "It works by finding the optimal hyperplane that best separates the data points of different classes with the maximum margin.\n",
        "\n",
        "Q2) What is the difference between Hard Margin and Soft Margin SVM\n",
        "\n",
        "Ans:\n",
        "\n",
        "Hard Margin SVM: Assumes data is perfectly linearly separable. No misclassifications are allowed. Sensitive to noise and outliers.\n",
        "\n",
        "Soft Margin SVM: Allows some misclassifications by introducing slack variables. Works better on noisy, real-world data.\n",
        "\n",
        "Q3) What is the mathematical intuition behind SVM\n",
        "\n",
        "Ans: SVM finds a hyperplane\n",
        "𝑤\n",
        "⋅\n",
        "𝑥\n",
        "+\n",
        "𝑏\n",
        "=\n",
        "0\n",
        "w⋅x+b=0 that maximizes the margin\n",
        "2\n",
        "∣\n",
        "∣\n",
        "𝑤\n",
        "∣\n",
        "∣\n",
        "∣∣w∣∣\n",
        "2\n",
        "​\n",
        "  between classes.\n",
        "Optimization problem:\n",
        "\n",
        "min\n",
        "⁡\n",
        "𝑤\n",
        ",\n",
        "𝑏\n",
        "1\n",
        "2\n",
        "∣\n",
        "∣\n",
        "𝑤\n",
        "∣\n",
        "∣\n",
        "2\n",
        "w,b\n",
        "min\n",
        "​\n",
        "  \n",
        "2\n",
        "1\n",
        "​\n",
        " ∣∣w∣∣\n",
        "2\n",
        "\n",
        "Subject to\n",
        "𝑦\n",
        "𝑖\n",
        "(\n",
        "𝑤\n",
        "⋅\n",
        "𝑥\n",
        "𝑖\n",
        "+\n",
        "𝑏\n",
        ")\n",
        "≥\n",
        "1\n",
        "y\n",
        "i\n",
        "​\n",
        " (w⋅x\n",
        "i\n",
        "​\n",
        " +b)≥1 for hard margin, and\n",
        "𝑦\n",
        "𝑖\n",
        "(\n",
        "𝑤\n",
        "⋅\n",
        "𝑥\n",
        "𝑖\n",
        "+\n",
        "𝑏\n",
        ")\n",
        "≥\n",
        "1\n",
        "−\n",
        "𝜉\n",
        "𝑖\n",
        "y\n",
        "i\n",
        "​\n",
        " (w⋅x\n",
        "i\n",
        "​\n",
        " +b)≥1−ξ\n",
        "i\n",
        "​\n",
        "  for soft margin.\n",
        "\n",
        "Q4) What is the role of Lagrange Multipliers in SVM\n",
        "\n",
        "Ans: Lagrange multipliers transform the constrained optimization problem into an unconstrained one. They help in solving for\n",
        "𝑤\n",
        "w and\n",
        "𝑏\n",
        "b efficiently and in identifying the support vectors (points with non-zero multipliers).\n",
        "\n",
        "Q5) What are Support Vectors in SVM\n",
        "\n",
        "Ans: Support vectors are the data points closest to the separating hyperplane. They define the margin and are critical for determining the decision boundary.\n",
        "\n",
        "Q6) What is a Support Vector Classifier (SVC)\n",
        "Ans: SVC is the classification implementation of SVM, which finds the optimal hyperplane to separate data into different categories.\n",
        "\n",
        "Q7) What is a Support Vector Regressor (SVR)\n",
        "\n",
        "Ans: SVR is the regression version of SVM that fits a function within a specified margin of tolerance (ε-insensitive zone) and minimizes error outside it.\n",
        "\n",
        "Q8) What is the Kernel Trick in SVM\n",
        "\n",
        "Ans: The kernel trick maps data to a higher-dimensional feature space to make it linearly separable without explicitly performing the transformation. Examples include Linear, Polynomial, and RBF kernels.\n",
        "\n",
        "Q9) Compare Linear Kernel, Polynomial Kernel, and RBF Kernel\n",
        "\n",
        "Ans:\n",
        "\n",
        "Linear Kernel: Best for linearly separable data; simple and fast.\n",
        "\n",
        "Polynomial Kernel: Captures feature interactions up to a certain degree; more flexible but slower.\n",
        "\n",
        "RBF Kernel: Handles complex, non-linear relationships; most commonly used.\n",
        "\n",
        "Q10) What is the effect of the C parameter in SVM\n",
        "\n",
        "Ans:\n",
        "\n",
        "High C → Focuses on correct classification of all training points (low bias, high variance).\n",
        "\n",
        "Low C → Allows more misclassifications to maximize margin (high bias, low variance).\n",
        "\n",
        "Q11) What is the role of the Gamma parameter in RBF Kernel SVM\n",
        "\n",
        "Ans:\n",
        "\n",
        "High Gamma → Model focuses on points very close to each other, creating complex boundaries (risk of overfitting).\n",
        "\n",
        "Low Gamma → Broader influence, smoother boundaries.\n",
        "\n",
        "Q12) What is the Naïve Bayes classifier, and why is it called \"Naïve\"\n",
        "\n",
        "Ans: Naïve Bayes is a probabilistic classifier based on Bayes’ Theorem, assuming all features are conditionally independent given the class.\n",
        "It’s called \"Naïve\" because in practice, features are rarely fully independent.\n",
        "\n",
        "Q13) What is Bayes’ Theorem\n",
        "\n",
        "Ans:\n",
        "\n",
        "𝑃\n",
        "(\n",
        "𝐴\n",
        "∣\n",
        "𝐵\n",
        ")\n",
        "=\n",
        "𝑃\n",
        "(\n",
        "𝐵\n",
        "∣\n",
        "𝐴\n",
        ")\n",
        "⋅\n",
        "𝑃\n",
        "(\n",
        "𝐴\n",
        ")\n",
        "𝑃\n",
        "(\n",
        "𝐵\n",
        ")\n",
        "P(A∣B)=\n",
        "P(B)\n",
        "P(B∣A)⋅P(A)\n",
        "​\n",
        "\n",
        "Where\n",
        "𝑃\n",
        "(\n",
        "𝐴\n",
        "∣\n",
        "𝐵\n",
        ")\n",
        "P(A∣B) is the probability of A given B,\n",
        "𝑃\n",
        "(\n",
        "𝐵\n",
        "∣\n",
        "𝐴\n",
        ")\n",
        "P(B∣A) is the probability of B given A,\n",
        "𝑃\n",
        "(\n",
        "𝐴\n",
        ")\n",
        "P(A) is the prior probability, and\n",
        "𝑃\n",
        "(\n",
        "𝐵\n",
        ")\n",
        "P(B) is the probability of B.\n",
        "\n",
        "Q14) Explain the differences between Gaussian Naïve Bayes, Multinomial Naïve Bayes, and Bernoulli Naïve Bayes\n",
        "\n",
        "Ans:\n",
        "\n",
        "Gaussian NB: For continuous data assuming normal distribution.\n",
        "\n",
        "Multinomial NB: For discrete counts like word frequencies.\n",
        "\n",
        "Bernoulli NB: For binary features like word presence/absence.\n",
        "\n",
        "Q15) When should you use Gaussian Naïve Bayes over other variants\n",
        "\n",
        "Ans: Use Gaussian NB when your features are continuous and approximately normally distributed.\n",
        "\n",
        "Q16) What are the key assumptions made by Naïve Bayes\n",
        "\n",
        "Ans:\n",
        "\n",
        "Features are conditionally independent given the class.\n",
        "\n",
        "Each feature contributes equally to the outcome.\n",
        "\n",
        "Training data is representative of real-world data.\n",
        "\n",
        "Q17) What are the advantages and disadvantages of Naïve Bayes\n",
        "\n",
        "Ans:\n",
        "Advantages:\n",
        "\n",
        "Fast and efficient.\n",
        "\n",
        "Works well with small datasets.\n",
        "\n",
        "Performs well in text classification.\n",
        "\n",
        "Disadvantages:\n",
        "\n",
        "Assumes independence between features.\n",
        "\n",
        "Performs poorly if assumption is strongly violated.\n",
        "\n",
        "Q18) Why is Naïve Bayes a good choice for text classification\n",
        "\n",
        "Ans: Text data often has many independent features (e.g., word occurrences), making Naïve Bayes efficient. It handles high-dimensional data well and performs well even with small amounts of training data.\n",
        "\n",
        "Q19) Compare SVM and Naïve Bayes for classification tasks\n",
        "\n",
        "Ans:\n",
        "\n",
        "SVM: Works well for complex boundaries, needs careful tuning of parameters, more computationally intensive.\n",
        "\n",
        "Naïve Bayes: Faster, works well with high-dimensional sparse data, but relies on independence assumption.\n",
        "\n",
        "Q20) How does Laplace Smoothing help in Naïve Bayes\n",
        "\n",
        "Ans: Laplace Smoothing adds a small constant (usually 1) to all counts to avoid zero probabilities for unseen feature-class combinations, improving model robustness."
      ],
      "metadata": {
        "id": "oRCmV1mruYus"
      }
    },
    {
      "cell_type": "code",
      "source": [
        "# Q1) Train an SVM Classifier on the Iris dataset and evaluate accuracy\n",
        "from sklearn import datasets\n",
        "from sklearn.model_selection import train_test_split\n",
        "from sklearn.svm import SVC\n",
        "from sklearn.metrics import accuracy_score\n",
        "\n",
        "# Load dataset\n",
        "iris = datasets.load_iris()\n",
        "X, y = iris.data, iris.target\n",
        "\n",
        "# Split\n",
        "X_train, X_test, y_train, y_test = train_test_split(X, y, test_size=0.3, random_state=42)\n",
        "\n",
        "# Train SVM\n",
        "model = SVC(kernel='linear')\n",
        "model.fit(X_train, y_train)\n",
        "\n",
        "# Predict\n",
        "y_pred = model.predict(X_test)\n",
        "print(\"Accuracy:\", accuracy_score(y_test, y_pred))\n"
      ],
      "metadata": {
        "colab": {
          "base_uri": "https://localhost:8080/"
        },
        "id": "iV1MgRlbvjGj",
        "outputId": "fa6d61c9-24a4-4160-ccb9-38b2b80e110c"
      },
      "execution_count": 1,
      "outputs": [
        {
          "output_type": "stream",
          "name": "stdout",
          "text": [
            "Accuracy: 1.0\n"
          ]
        }
      ]
    },
    {
      "cell_type": "code",
      "source": [
        "# Q2) Train two SVM classifiers with Linear and RBF kernels on the Wine dataset and compare accuracies\n",
        "from sklearn import datasets\n",
        "from sklearn.model_selection import train_test_split\n",
        "from sklearn.svm import SVC\n",
        "\n",
        "# Load dataset\n",
        "wine = datasets.load_wine()\n",
        "X, y = wine.data, wine.target\n",
        "\n",
        "# Split\n",
        "X_train, X_test, y_train, y_test = train_test_split(X, y, test_size=0.3, random_state=42)\n",
        "\n",
        "# Train Linear Kernel SVM\n",
        "linear_svm = SVC(kernel='linear')\n",
        "linear_svm.fit(X_train, y_train)\n",
        "\n",
        "# Train RBF Kernel SVM\n",
        "rbf_svm = SVC(kernel='rbf')\n",
        "rbf_svm.fit(X_train, y_train)\n",
        "\n",
        "# Compare accuracies\n",
        "print(\"Linear Kernel Accuracy:\", linear_svm.score(X_test, y_test))\n",
        "print(\"RBF Kernel Accuracy:\", rbf_svm.score(X_test, y_test))\n"
      ],
      "metadata": {
        "colab": {
          "base_uri": "https://localhost:8080/"
        },
        "id": "QJnCP2VFvma-",
        "outputId": "31347df0-7e48-44ab-d538-9fbe8d129153"
      },
      "execution_count": 2,
      "outputs": [
        {
          "output_type": "stream",
          "name": "stdout",
          "text": [
            "Linear Kernel Accuracy: 0.9814814814814815\n",
            "RBF Kernel Accuracy: 0.7592592592592593\n"
          ]
        }
      ]
    },
    {
      "cell_type": "code",
      "source": [
        "# Q3) Train an SVM Regressor (SVR) on a housing dataset and evaluate it using Mean Squared Error (MSE)\n",
        "from sklearn.datasets import fetch_california_housing\n",
        "from sklearn.model_selection import train_test_split\n",
        "from sklearn.svm import SVR\n",
        "from sklearn.metrics import mean_squared_error\n",
        "from sklearn.preprocessing import StandardScaler\n",
        "\n",
        "# Load dataset\n",
        "housing = fetch_california_housing()\n",
        "X, y = housing.data, housing.target\n",
        "\n",
        "# Split\n",
        "X_train, X_test, y_train, y_test = train_test_split(X, y, test_size=0.2, random_state=42)\n",
        "\n",
        "# Feature scaling\n",
        "scaler = StandardScaler()\n",
        "X_train = scaler.fit_transform(X_train)\n",
        "X_test = scaler.transform(X_test)\n",
        "\n",
        "# Train SVR\n",
        "svr = SVR(kernel='rbf')\n",
        "svr.fit(X_train, y_train)\n",
        "\n",
        "# Predict & evaluate\n",
        "y_pred = svr.predict(X_test)\n",
        "print(\"Mean Squared Error:\", mean_squared_error(y_test, y_pred))\n"
      ],
      "metadata": {
        "colab": {
          "base_uri": "https://localhost:8080/"
        },
        "id": "eYSWjzuVvrkd",
        "outputId": "84784265-c30f-4988-b515-8ad07ee53677"
      },
      "execution_count": 3,
      "outputs": [
        {
          "output_type": "stream",
          "name": "stdout",
          "text": [
            "Mean Squared Error: 0.3570026426754463\n"
          ]
        }
      ]
    },
    {
      "cell_type": "code",
      "source": [
        "# Q4) Train an SVM Classifier with a Polynomial Kernel and visualize the decision boundary\n",
        "import numpy as np\n",
        "import matplotlib.pyplot as plt\n",
        "from sklearn.datasets import make_classification\n",
        "from sklearn.svm import SVC\n",
        "\n",
        "# Create sample data\n",
        "X, y = make_classification(n_features=2, n_classes=2, n_redundant=0, random_state=42)\n",
        "\n",
        "# Train SVM with polynomial kernel\n",
        "model = SVC(kernel='poly', degree=3)\n",
        "model.fit(X, y)\n",
        "\n",
        "# Meshgrid for decision boundary\n",
        "xx, yy = np.meshgrid(np.linspace(X[:,0].min()-1, X[:,0].max()+1, 500),\n",
        "                     np.linspace(X[:,1].min()-1, X[:,1].max()+1, 500))\n",
        "Z = model.predict(np.c_[xx.ravel(), yy.ravel()]).reshape(xx.shape)\n",
        "\n",
        "# Plot\n",
        "plt.contourf(xx, yy, Z, alpha=0.5, cmap='coolwarm')\n",
        "plt.scatter(X[:,0], X[:,1], c=y, edgecolor='k', cmap='coolwarm')\n",
        "plt.title(\"Polynomial Kernel Decision Boundary\")\n",
        "plt.show()\n"
      ],
      "metadata": {
        "colab": {
          "base_uri": "https://localhost:8080/",
          "height": 452
        },
        "id": "268LBuyivueA",
        "outputId": "a31af077-f38a-4f28-ccf2-fa11b983275f"
      },
      "execution_count": 4,
      "outputs": [
        {
          "output_type": "display_data",
          "data": {
            "text/plain": [
              "<Figure size 640x480 with 1 Axes>"
            ],
            "image/png": "[encoded data removed]"
          },
          "metadata": {}
        }
      ]
    },
    {
      "cell_type": "code",
      "source": [
        "# Q5) Train a Gaussian Naïve Bayes classifier on the Breast Cancer dataset and evaluate accuracy\n",
        "from sklearn import datasets\n",
        "from sklearn.model_selection import train_test_split\n",
        "from sklearn.naive_bayes import GaussianNB\n",
        "from sklearn.metrics import accuracy_score\n",
        "\n",
        "# Load dataset\n",
        "cancer = datasets.load_breast_cancer()\n",
        "X, y = cancer.data, cancer.target\n",
        "\n",
        "# Split\n",
        "X_train, X_test, y_train, y_test = train_test_split(X, y, test_size=0.3, random_state=42)\n",
        "\n",
        "# Train GaussianNB\n",
        "gnb = GaussianNB()\n",
        "gnb.fit(X_train, y_train)\n",
        "\n",
        "# Predict\n",
        "y_pred = gnb.predict(X_test)\n",
        "print(\"Accuracy:\", accuracy_score(y_test, y_pred))\n"
      ],
      "metadata": {
        "colab": {
          "base_uri": "https://localhost:8080/"
        },
        "id": "8UclnsKuvweQ",
        "outputId": "d59f423c-15a2-49f4-a2a2-a7ee88afc732"
      },
      "execution_count": 5,
      "outputs": [
        {
          "output_type": "stream",
          "name": "stdout",
          "text": [
            "Accuracy: 0.9415204678362573\n"
          ]
        }
      ]
    },
    {
      "cell_type": "code",
      "source": [
        "# Q6) Train a Multinomial Naïve Bayes classifier for text classification using the 20 Newsgroups dataset\n",
        "from sklearn.datasets import fetch_20newsgroups\n",
        "from sklearn.feature_extraction.text import CountVectorizer\n",
        "from sklearn.naive_bayes import MultinomialNB\n",
        "from sklearn.metrics import accuracy_score\n",
        "\n",
        "# Load subset for speed (choose two categories for binary)\n",
        "categories = ['rec.sport.baseball', 'sci.space']\n",
        "newsgroups_train = fetch_20newsgroups(subset='train', categories=categories, remove=('headers','footers','quotes'))\n",
        "newsgroups_test = fetch_20newsgroups(subset='test', categories=categories, remove=('headers','footers','quotes'))\n",
        "\n",
        "# Vectorize\n",
        "vect = CountVectorizer(stop_words='english', max_df=0.7)\n",
        "X_train = vect.fit_transform(newsgroups_train.data)\n",
        "X_test = vect.transform(newsgroups_test.data)\n",
        "y_train = newsgroups_train.target\n",
        "y_test = newsgroups_test.target\n",
        "\n",
        "# Train MultinomialNB\n",
        "mnb = MultinomialNB()\n",
        "mnb.fit(X_train, y_train)\n",
        "\n",
        "# Predict & evaluate\n",
        "y_pred = mnb.predict(X_test)\n",
        "print(\"Accuracy:\", accuracy_score(y_test, y_pred))\n"
      ],
      "metadata": {
        "colab": {
          "base_uri": "https://localhost:8080/"
        },
        "id": "PjiBp9envyCY",
        "outputId": "67c1ad63-5b02-48d0-d7f9-7fa5d6867ad1"
      },
      "execution_count": 6,
      "outputs": [
        {
          "output_type": "stream",
          "name": "stdout",
          "text": [
            "Accuracy: 0.9355246523388117\n"
          ]
        }
      ]
    },
    {
      "cell_type": "code",
      "source": [
        "# Q7) Train an SVM Classifier with different C values and compare the decision boundaries visually\n",
        "import numpy as np\n",
        "import matplotlib.pyplot as plt\n",
        "from sklearn.datasets import make_blobs\n",
        "from sklearn.svm import SVC\n",
        "\n",
        "# Create simple 2D blob data\n",
        "X, y = make_blobs(n_samples=200, centers=2, cluster_std=1.2, random_state=42)\n",
        "\n",
        "C_values = [0.1, 1, 100]\n",
        "models = [SVC(kernel='rbf', C=C, gamma='scale').fit(X, y) for C in C_values]\n",
        "\n",
        "xx, yy = np.meshgrid(np.linspace(X[:,0].min()-1, X[:,0].max()+1, 300),\n",
        "                     np.linspace(X[:,1].min()-1, X[:,1].max()+1, 300))\n",
        "\n",
        "plt.figure(figsize=(15,4))\n",
        "for i, model in enumerate(models):\n",
        "    Z = model.predict(np.c_[xx.ravel(), yy.ravel()]).reshape(xx.shape)\n",
        "    plt.subplot(1, len(models), i+1)\n",
        "    plt.contourf(xx, yy, Z, alpha=0.4)\n",
        "    plt.scatter(X[:,0], X[:,1], c=y, edgecolor='k', s=20)\n",
        "    plt.title(f\"C = {C_values[i]} | #SV: {len(model.support_)}\")\n",
        "plt.tight_layout()\n",
        "plt.show()\n"
      ],
      "metadata": {
        "colab": {
          "base_uri": "https://localhost:8080/",
          "height": 387
        },
        "id": "2Dbp0LSKwJhM",
        "outputId": "c461b18c-a5a1-463f-a09c-4721d3a1d3f9"
      },
      "execution_count": 7,
      "outputs": [
        {
          "output_type": "display_data",
          "data": {
            "text/plain": [
              "<Figure size 1500x400 with 3 Axes>"
            ],
            "image/png": "[encoded data removed]"
          },
          "metadata": {}
        }
      ]
    },
    {
      "cell_type": "code",
      "source": [
        "# Q8) Train a Bernoulli Naïve Bayes classifier for binary classification on a dataset with binary features\n",
        "from sklearn.datasets import make_classification\n",
        "from sklearn.naive_bayes import BernoulliNB\n",
        "from sklearn.model_selection import train_test_split\n",
        "from sklearn.metrics import accuracy_score\n",
        "import numpy as np\n",
        "\n",
        "# Create synthetic binary feature dataset\n",
        "X, y = make_classification(n_samples=1000, n_features=20, n_informative=5,\n",
        "                           n_redundant=0, random_state=42)\n",
        "# Binarize features (threshold at median)\n",
        "X_bin = (X > np.median(X, axis=0)).astype(int)\n",
        "\n",
        "# Split\n",
        "X_train, X_test, y_train, y_test = train_test_split(X_bin, y, test_size=0.3, random_state=42)\n",
        "\n",
        "# Train BernoulliNB\n",
        "bnb = BernoulliNB()\n",
        "bnb.fit(X_train, y_train)\n",
        "\n",
        "# Predict & evaluate\n",
        "y_pred = bnb.predict(X_test)\n",
        "print(\"Accuracy (BernoulliNB on binary features):\", accuracy_score(y_test, y_pred))\n"
      ],
      "metadata": {
        "colab": {
          "base_uri": "https://localhost:8080/"
        },
        "id": "O3ceh1PtwK5J",
        "outputId": "9ab8cd42-67d8-4a19-d90e-e7d0f10ef545"
      },
      "execution_count": 8,
      "outputs": [
        {
          "output_type": "stream",
          "name": "stdout",
          "text": [
            "Accuracy (BernoulliNB on binary features): 0.7133333333333334\n"
          ]
        }
      ]
    },
    {
      "cell_type": "code",
      "source": [
        "# Q9) Apply feature scaling before training an SVM model and compare results with unscaled data\n",
        "from sklearn import datasets\n",
        "from sklearn.model_selection import train_test_split\n",
        "from sklearn.preprocessing import StandardScaler\n",
        "from sklearn.svm import SVC\n",
        "from sklearn.metrics import accuracy_score\n",
        "\n",
        "# Load dataset (Iris, multiclass)\n",
        "iris = datasets.load_iris()\n",
        "X, y = iris.data, iris.target\n",
        "\n",
        "# Split once\n",
        "X_train, X_test, y_train, y_test = train_test_split(X, y, test_size=0.3, random_state=42)\n",
        "\n",
        "# Unscaled SVM\n",
        "svm_unscaled = SVC(kernel='rbf', gamma='scale')\n",
        "svm_unscaled.fit(X_train, y_train)\n",
        "acc_unscaled = accuracy_score(y_test, svm_unscaled.predict(X_test))\n",
        "\n",
        "# Scaled SVM\n",
        "scaler = StandardScaler()\n",
        "X_train_s = scaler.fit_transform(X_train)\n",
        "X_test_s = scaler.transform(X_test)\n",
        "svm_scaled = SVC(kernel='rbf', gamma='scale')\n",
        "svm_scaled.fit(X_train_s, y_train)\n",
        "acc_scaled = accuracy_score(y_test, svm_scaled.predict(X_test_s))\n",
        "\n",
        "print(\"Accuracy (unscaled):\", acc_unscaled)\n",
        "print(\"Accuracy (scaled):\", acc_scaled)\n"
      ],
      "metadata": {
        "colab": {
          "base_uri": "https://localhost:8080/"
        },
        "id": "M5NNBdEkwMRk",
        "outputId": "41af9e1f-1f00-4605-a4c7-7283c6bfc805"
      },
      "execution_count": 9,
      "outputs": [
        {
          "output_type": "stream",
          "name": "stdout",
          "text": [
            "Accuracy (unscaled): 1.0\n",
            "Accuracy (scaled): 1.0\n"
          ]
        }
      ]
    },
    {
      "cell_type": "code",
      "source": [
        "# Q10) Train a Gaussian Naïve Bayes model and compare the predictions before and after Laplace Smoothing\n",
        "# Note: Laplace smoothing (alpha) applies to discrete NB (Multinomial/Bernoulli).\n",
        "# For GaussianNB we can compare different var_smoothing values instead (numerical stability).\n",
        "from sklearn import datasets\n",
        "from sklearn.naive_bayes import GaussianNB\n",
        "from sklearn.model_selection import train_test_split\n",
        "from sklearn.metrics import accuracy_score\n",
        "\n",
        "# Load dataset\n",
        "iris = datasets.load_iris()\n",
        "X, y = iris.data, iris.target\n",
        "X_train, X_test, y_train, y_test = train_test_split(X, y, test_size=0.3, random_state=42)\n",
        "\n",
        "# Default var_smoothing\n",
        "gnb_default = GaussianNB()\n",
        "gnb_default.fit(X_train, y_train)\n",
        "acc_default = accuracy_score(y_test, gnb_default.predict(X_test))\n",
        "\n",
        "# Increased var_smoothing (more smoothing of variance)\n",
        "gnb_smoothed = GaussianNB(var_smoothing=1e-7)\n",
        "gnb_smoothed.fit(X_train, y_train)\n",
        "acc_smoothed = accuracy_score(y_test, gnb_smoothed.predict(X_test))\n",
        "\n",
        "print(\"GaussianNB accuracy (default var_smoothing):\", acc_default)\n",
        "print(\"GaussianNB accuracy (adjusted var_smoothing):\", acc_smoothed)\n"
      ],
      "metadata": {
        "colab": {
          "base_uri": "https://localhost:8080/"
        },
        "id": "ncTgZXzHwNta",
        "outputId": "811be1ec-541f-4669-bb83-61c0f7ed2b24"
      },
      "execution_count": 10,
      "outputs": [
        {
          "output_type": "stream",
          "name": "stdout",
          "text": [
            "GaussianNB accuracy (default var_smoothing): 0.9777777777777777\n",
            "GaussianNB accuracy (adjusted var_smoothing): 0.9777777777777777\n"
          ]
        }
      ]
    },
    {
      "cell_type": "code",
      "source": [
        "# Q11) Train an SVM Classifier and use GridSearchCV to tune the hyperparameters (C, gamma, kernel)\n",
        "from sklearn import datasets\n",
        "from sklearn.model_selection import train_test_split, GridSearchCV\n",
        "from sklearn.svm import SVC\n",
        "from sklearn.metrics import accuracy_score\n",
        "\n",
        "# Load dataset\n",
        "wine = datasets.load_wine()\n",
        "X, y = wine.data, wine.target\n",
        "X_train, X_test, y_train, y_test = train_test_split(X, y, test_size=0.3, random_state=42)\n",
        "\n",
        "# Grid search\n",
        "param_grid = {'C': [0.1, 1, 10], 'gamma': ['scale', 0.1, 1], 'kernel': ['rbf', 'poly']}\n",
        "grid = GridSearchCV(SVC(), param_grid, cv=5, n_jobs=-1)\n",
        "grid.fit(X_train, y_train)\n",
        "\n",
        "print(\"Best params:\", grid.best_params_)\n",
        "best = grid.best_estimator_\n",
        "print(\"Test accuracy with best estimator:\", accuracy_score(y_test, best.predict(X_test)))\n"
      ],
      "metadata": {
        "colab": {
          "base_uri": "https://localhost:8080/"
        },
        "id": "TaSJhg2lwPLl",
        "outputId": "cd05128a-ff34-4f19-891b-b0f3b7a463df"
      },
      "execution_count": 11,
      "outputs": [
        {
          "output_type": "stream",
          "name": "stdout",
          "text": [
            "Best params: {'C': 0.1, 'gamma': 0.1, 'kernel': 'poly'}\n",
            "Test accuracy with best estimator: 1.0\n"
          ]
        }
      ]
    },
    {
      "cell_type": "code",
      "source": [
        "# Q12) Train an SVM Classifier on an imbalanced dataset and apply class weighting and check if it improves accuracy\n",
        "from sklearn.datasets import make_classification\n",
        "from sklearn.model_selection import train_test_split\n",
        "from sklearn.svm import SVC\n",
        "from sklearn.metrics import classification_report\n",
        "\n",
        "# Create imbalanced dataset\n",
        "X, y = make_classification(n_samples=2000, n_features=20, weights=[0.9, 0.1], flip_y=0.01, random_state=42)\n",
        "X_train, X_test, y_train, y_test = train_test_split(X, y, test_size=0.3, random_state=42)\n",
        "\n",
        "# Without class weights\n",
        "svm_no_weight = SVC(kernel='rbf', class_weight=None, random_state=42)\n",
        "svm_no_weight.fit(X_train, y_train)\n",
        "pred_no_weight = svm_no_weight.predict(X_test)\n",
        "\n",
        "# With class weights balanced\n",
        "svm_weighted = SVC(kernel='rbf', class_weight='balanced', random_state=42)\n",
        "svm_weighted.fit(X_train, y_train)\n",
        "pred_weighted = svm_weighted.predict(X_test)\n",
        "\n",
        "print(\"Without class_weight:\\n\", classification_report(y_test, pred_no_weight))\n",
        "print(\"With class_weight='balanced':\\n\", classification_report(y_test, pred_weighted))\n"
      ],
      "metadata": {
        "colab": {
          "base_uri": "https://localhost:8080/"
        },
        "id": "XsGpGA7ewQgH",
        "outputId": "31eff1ac-f704-4b57-fde0-59da8b2af985"
      },
      "execution_count": 12,
      "outputs": [
        {
          "output_type": "stream",
          "name": "stdout",
          "text": [
            "Without class_weight:\n",
            "               precision    recall  f1-score   support\n",
            "\n",
            "           0       0.97      0.99      0.98       553\n",
            "           1       0.79      0.64      0.71        47\n",
            "\n",
            "    accuracy                           0.96       600\n",
            "   macro avg       0.88      0.81      0.84       600\n",
            "weighted avg       0.96      0.96      0.96       600\n",
            "\n",
            "With class_weight='balanced':\n",
            "               precision    recall  f1-score   support\n",
            "\n",
            "           0       0.99      0.90      0.95       553\n",
            "           1       0.44      0.89      0.59        47\n",
            "\n",
            "    accuracy                           0.90       600\n",
            "   macro avg       0.72      0.90      0.77       600\n",
            "weighted avg       0.95      0.90      0.92       600\n",
            "\n"
          ]
        }
      ]
    },
    {
      "cell_type": "code",
      "source": [
        "# Q13) Implement a Naïve Bayes classifier for spam detection using email data (Spambase from OpenML)\n",
        "# Note: fetch_openml may require internet access the first time.\n",
        "from sklearn.datasets import fetch_openml\n",
        "from sklearn.model_selection import train_test_split\n",
        "from sklearn.naive_bayes import GaussianNB\n",
        "from sklearn.metrics import accuracy_score\n",
        "\n",
        "# Load spambase (OpenML id 'spambase') -- may require internet\n",
        "try:\n",
        "    spam = fetch_openml(name='spambase', version=1, as_frame=False)\n",
        "    X, y = spam.data, spam.target.astype(int)\n",
        "    X_train, X_test, y_train, y_test = train_test_split(X, y, test_size=0.3, random_state=42)\n",
        "    gnb = GaussianNB()\n",
        "    gnb.fit(X_train, y_train)\n",
        "    print(\"Spam detection accuracy (GaussianNB):\", accuracy_score(y_test, gnb.predict(X_test)))\n",
        "except Exception as e:\n",
        "    print(\"fetch_openml failed (internet needed). Error:\", e)\n"
      ],
      "metadata": {
        "colab": {
          "base_uri": "https://localhost:8080/"
        },
        "id": "1N-KxJPHwSKc",
        "outputId": "4211270b-51f6-4be8-b3db-66402383de02"
      },
      "execution_count": 13,
      "outputs": [
        {
          "output_type": "stream",
          "name": "stderr",
          "text": [
            "/usr/local/lib/python3.11/dist-packages/sklearn/datasets/_openml.py:110: UserWarning: A network error occurred while downloading https://api.openml.org/data/v1/download/44. Retrying...\n",
            "  warn(\n"
          ]
        },
        {
          "output_type": "stream",
          "name": "stdout",
          "text": [
            "fetch_openml failed (internet needed). Error: HTTP Error 404: Not Found\n"
          ]
        }
      ]
    },
    {
      "cell_type": "code",
      "source": [
        "# Q14) Train an SVM Classifier and a Naïve Bayes Classifier on the same dataset and compare their accuracy\n",
        "from sklearn import datasets\n",
        "from sklearn.model_selection import train_test_split\n",
        "from sklearn.svm import SVC\n",
        "from sklearn.naive_bayes import GaussianNB\n",
        "from sklearn.metrics import accuracy_score\n",
        "\n",
        "# Dataset\n",
        "iris = datasets.load_iris()\n",
        "X, y = iris.data, iris.target\n",
        "X_train, X_test, y_train, y_test = train_test_split(X, y, test_size=0.3, random_state=42)\n",
        "\n",
        "# SVM\n",
        "svm = SVC(kernel='rbf', gamma='scale', random_state=42)\n",
        "svm.fit(X_train, y_train)\n",
        "acc_svm = accuracy_score(y_test, svm.predict(X_test))\n",
        "\n",
        "# Gaussian NB\n",
        "gnb = GaussianNB()\n",
        "gnb.fit(X_train, y_train)\n",
        "acc_gnb = accuracy_score(y_test, gnb.predict(X_test))\n",
        "\n",
        "print(\"SVM accuracy:\", acc_svm)\n",
        "print(\"GaussianNB accuracy:\", acc_gnb)\n"
      ],
      "metadata": {
        "id": "GqFBXoscwTt4"
      },
      "execution_count": 13,
      "outputs": []
    },
    {
      "cell_type": "code",
      "source": [
        "# Q15) Perform feature selection before training a Naïve Bayes classifier and compare results (SelectKBest)\n",
        "from sklearn import datasets\n",
        "from sklearn.feature_selection import SelectKBest, f_classif\n",
        "from sklearn.model_selection import train_test_split\n",
        "from sklearn.naive_bayes import GaussianNB\n",
        "from sklearn.metrics import accuracy_score\n",
        "\n",
        "# Load dataset\n",
        "breast = datasets.load_breast_cancer()\n",
        "X, y = breast.data, breast.target\n",
        "X_train, X_test, y_train, y_test = train_test_split(X, y, test_size=0.3, random_state=42)\n",
        "\n",
        "# Baseline\n",
        "gnb_full = GaussianNB()\n",
        "gnb_full.fit(X_train, y_train)\n",
        "acc_full = accuracy_score(y_test, gnb_full.predict(X_test))\n",
        "\n",
        "# Feature selection (top 10)\n",
        "selector = SelectKBest(f_classif, k=10)\n",
        "X_train_sel = selector.fit_transform(X_train, y_train)\n",
        "X_test_sel = selector.transform(X_test)\n",
        "\n",
        "gnb_sel = GaussianNB()\n",
        "gnb_sel.fit(X_train_sel, y_train)\n",
        "acc_sel = accuracy_score(y_test, gnb_sel.predict(X_test_sel))\n",
        "\n",
        "print(\"Accuracy (all features):\", acc_full)\n",
        "print(\"Accuracy (top 10 features):\", acc_sel)\n"
      ],
      "metadata": {
        "colab": {
          "base_uri": "https://localhost:8080/"
        },
        "id": "ed5Nsmr6wVpc",
        "outputId": "26cd0d93-8f26-4b19-b7b8-11c4acb00b28"
      },
      "execution_count": 14,
      "outputs": [
        {
          "output_type": "stream",
          "name": "stdout",
          "text": [
            "Accuracy (all features): 0.9415204678362573\n",
            "Accuracy (top 10 features): 0.9590643274853801\n"
          ]
        }
      ]
    },
    {
      "cell_type": "code",
      "source": [
        "# Q16) Train an SVM Classifier using One-vs-Rest (OvR) and One-vs-One (OvO) strategies on the Wine dataset and compare their accuracy\n",
        "from sklearn import datasets\n",
        "from sklearn.model_selection import train_test_split\n",
        "from sklearn.multiclass import OneVsRestClassifier, OneVsOneClassifier\n",
        "from sklearn.svm import SVC\n",
        "from sklearn.metrics import accuracy_score\n",
        "\n",
        "wine = datasets.load_wine()\n",
        "X, y = wine.data, wine.target\n",
        "X_train, X_test, y_train, y_test = train_test_split(X, y, test_size=0.3, random_state=42)\n",
        "\n",
        "ovr = OneVsRestClassifier(SVC(kernel='linear', probability=False))\n",
        "ovo = OneVsOneClassifier(SVC(kernel='linear'))\n",
        "\n",
        "ovr.fit(X_train, y_train)\n",
        "ovo.fit(X_train, y_train)\n",
        "\n",
        "print(\"OvR accuracy:\", accuracy_score(y_test, ovr.predict(X_test)))\n",
        "print(\"OvO accuracy:\", accuracy_score(y_test, ovo.predict(X_test)))\n"
      ],
      "metadata": {
        "colab": {
          "base_uri": "https://localhost:8080/"
        },
        "id": "KLZtYLZ2wXyc",
        "outputId": "b5de00ec-22f8-44ec-f211-2d2a99a0e8e7"
      },
      "execution_count": 15,
      "outputs": [
        {
          "output_type": "stream",
          "name": "stdout",
          "text": [
            "OvR accuracy: 0.9814814814814815\n",
            "OvO accuracy: 0.9814814814814815\n"
          ]
        }
      ]
    },
    {
      "cell_type": "code",
      "source": [
        "# Q17) Train an SVM Classifier using Linear, Polynomial, and RBF kernels on the Breast Cancer dataset and compare their accuracy\n",
        "from sklearn import datasets\n",
        "from sklearn.model_selection import train_test_split\n",
        "from sklearn.svm import SVC\n",
        "from sklearn.metrics import accuracy_score\n",
        "\n",
        "data = datasets.load_breast_cancer()\n",
        "X, y = data.data, data.target\n",
        "X_train, X_test, y_train, y_test = train_test_split(X, y, test_size=0.3, random_state=42)\n",
        "\n",
        "kernels = ['linear', 'poly', 'rbf']\n",
        "for k in kernels:\n",
        "    clf = SVC(kernel=k, degree=3 if k=='poly' else 3, gamma='scale', random_state=42)\n",
        "    clf.fit(X_train, y_train)\n",
        "    print(f\"{k} kernel accuracy:\", accuracy_score(y_test, clf.predict(X_test)))\n"
      ],
      "metadata": {
        "colab": {
          "base_uri": "https://localhost:8080/"
        },
        "id": "U0usW2VRwZdw",
        "outputId": "7898845a-f393-45d6-ea2a-2062e4763258"
      },
      "execution_count": 16,
      "outputs": [
        {
          "output_type": "stream",
          "name": "stdout",
          "text": [
            "linear kernel accuracy: 0.9649122807017544\n",
            "poly kernel accuracy: 0.9415204678362573\n",
            "rbf kernel accuracy: 0.935672514619883\n"
          ]
        }
      ]
    },
    {
      "cell_type": "code",
      "source": [
        "# Q18) Train an SVM Classifier using Stratified K-Fold Cross-Validation and compute the average accuracy\n",
        "from sklearn import datasets\n",
        "from sklearn.model_selection import StratifiedKFold, cross_val_score\n",
        "from sklearn.svm import SVC\n",
        "import numpy as np\n",
        "\n",
        "data = datasets.load_wine()\n",
        "X, y = data.data, data.target\n",
        "skf = StratifiedKFold(n_splits=5, shuffle=True, random_state=42)\n",
        "\n",
        "clf = SVC(kernel='rbf', gamma='scale')\n",
        "scores = cross_val_score(clf, X, y, cv=skf, scoring='accuracy', n_jobs=-1)\n",
        "print(\"Stratified K-Fold accuracies:\", scores)\n",
        "print(\"Average accuracy:\", np.mean(scores))\n"
      ],
      "metadata": {
        "colab": {
          "base_uri": "https://localhost:8080/"
        },
        "id": "R8K62q6jwa7I",
        "outputId": "4eb9c547-ab1e-474a-f381-ee85cc32a0d0"
      },
      "execution_count": 17,
      "outputs": [
        {
          "output_type": "stream",
          "name": "stdout",
          "text": [
            "Stratified K-Fold accuracies: [0.63888889 0.69444444 0.63888889 0.65714286 0.74285714]\n",
            "Average accuracy: 0.6744444444444444\n"
          ]
        }
      ]
    },
    {
      "cell_type": "code",
      "source": [
        "# Q19) Train a Naïve Bayes classifier using different prior probabilities and compare performance\n",
        "from sklearn import datasets\n",
        "from sklearn.naive_bayes import MultinomialNB\n",
        "from sklearn.feature_extraction.text import CountVectorizer\n",
        "from sklearn.model_selection import train_test_split\n",
        "from sklearn.metrics import accuracy_score\n",
        "\n",
        "# Use a small text classification example: 2 categories from 20newsgroups\n",
        "from sklearn.datasets import fetch_20newsgroups\n",
        "cats = ['rec.sport.baseball', 'sci.space']\n",
        "data_train = fetch_20newsgroups(subset='train', categories=cats, remove=('headers','footers','quotes'))\n",
        "data_test = fetch_20newsgroups(subset='test', categories=cats, remove=('headers','footers','quotes'))\n",
        "\n",
        "vect = CountVectorizer(stop_words='english', max_df=0.7)\n",
        "X_train = vect.fit_transform(data_train.data)\n",
        "X_test = vect.transform(data_test.data)\n",
        "y_train, y_test = data_train.target, data_test.target\n",
        "\n",
        "# Default priors (learned)\n",
        "mnb_default = MultinomialNB()\n",
        "mnb_default.fit(X_train, y_train)\n",
        "acc_default = accuracy_score(y_test, mnb_default.predict(X_test))\n",
        "\n",
        "# Specified priors (e.g., bias towards class 0 and class 1 equally)\n",
        "mnb_priors = MultinomialNB(class_prior=[0.5, 0.5])\n",
        "mnb_priors.fit(X_train, y_train)\n",
        "acc_priors = accuracy_score(y_test, mnb_priors.predict(X_test))\n",
        "\n",
        "print(\"Accuracy (learned priors):\", acc_default)\n",
        "print(\"Accuracy (specified priors [0.5,0.5]):\", acc_priors)\n"
      ],
      "metadata": {
        "colab": {
          "base_uri": "https://localhost:8080/"
        },
        "id": "E7XHD04cwcbA",
        "outputId": "67f5938d-8d89-4375-9602-4b45af745133"
      },
      "execution_count": 18,
      "outputs": [
        {
          "output_type": "stream",
          "name": "stdout",
          "text": [
            "Accuracy (learned priors): 0.9355246523388117\n",
            "Accuracy (specified priors [0.5,0.5]): 0.9355246523388117\n"
          ]
        }
      ]
    },
    {
      "cell_type": "code",
      "source": [
        "# Q20) Perform Recursive Feature Elimination (RFE) before training an SVM Classifier and compare accuracy\n",
        "from sklearn import datasets\n",
        "from sklearn.feature_selection import RFE\n",
        "from sklearn.svm import SVC\n",
        "from sklearn.model_selection import train_test_split\n",
        "from sklearn.metrics import accuracy_score\n",
        "\n",
        "data = datasets.load_breast_cancer()\n",
        "X, y = data.data, data.target\n",
        "X_train, X_test, y_train, y_test = train_test_split(X, y, test_size=0.3, random_state=42)\n",
        "\n",
        "svc = SVC(kernel='linear')\n",
        "# RFE to select top 10 features\n",
        "rfe = RFE(estimator=svc, n_features_to_select=10, step=1)\n",
        "rfe.fit(X_train, y_train)\n",
        "X_train_r = rfe.transform(X_train)\n",
        "X_test_r = rfe.transform(X_test)\n",
        "\n",
        "svc.fit(X_train, y_train)\n",
        "svc_rfe = SVC(kernel='linear')\n",
        "svc_rfe.fit(X_train_r, y_train)\n",
        "\n",
        "print(\"Accuracy (all features):\", accuracy_score(y_test, svc.predict(X_test)))\n",
        "print(\"Accuracy (after RFE - top 10):\", accuracy_score(y_test, svc_rfe.predict(X_test_r)))\n"
      ],
      "metadata": {
        "colab": {
          "base_uri": "https://localhost:8080/"
        },
        "id": "Skms2a6Uwduh",
        "outputId": "05d146de-7a18-46c8-eebe-aee8921626bb"
      },
      "execution_count": 19,
      "outputs": [
        {
          "output_type": "stream",
          "name": "stdout",
          "text": [
            "Accuracy (all features): 0.9649122807017544\n",
            "Accuracy (after RFE - top 10): 0.9298245614035088\n"
          ]
        }
      ]
    },
    {
      "cell_type": "code",
      "source": [
        "# Q21) Train an SVM Classifier and evaluate its performance using Precision, Recall, and F1-Score instead of accuracy\n",
        "from sklearn import datasets\n",
        "from sklearn.model_selection import train_test_split\n",
        "from sklearn.svm import SVC\n",
        "from sklearn.metrics import classification_report\n",
        "\n",
        "data = datasets.load_wine()\n",
        "X, y = data.data, data.target\n",
        "X_train, X_test, y_train, y_test = train_test_split(X, y, test_size=0.3, random_state=42)\n",
        "\n",
        "clf = SVC(kernel='rbf', gamma='scale', random_state=42)\n",
        "clf.fit(X_train, y_train)\n",
        "y_pred = clf.predict(X_test)\n",
        "\n",
        "print(classification_report(y_test, y_pred))\n"
      ],
      "metadata": {
        "colab": {
          "base_uri": "https://localhost:8080/"
        },
        "id": "rHAa8d_4wfPE",
        "outputId": "26371d57-f7e6-4847-b4fa-267190b0ba6b"
      },
      "execution_count": 20,
      "outputs": [
        {
          "output_type": "stream",
          "name": "stdout",
          "text": [
            "              precision    recall  f1-score   support\n",
            "\n",
            "           0       1.00      1.00      1.00        19\n",
            "           1       0.63      0.90      0.75        21\n",
            "           2       0.60      0.21      0.32        14\n",
            "\n",
            "    accuracy                           0.76        54\n",
            "   macro avg       0.74      0.71      0.69        54\n",
            "weighted avg       0.75      0.76      0.72        54\n",
            "\n"
          ]
        }
      ]
    },
    {
      "cell_type": "code",
      "source": [
        "# Q22) Train a Naïve Bayes Classifier and evaluate its performance using Log Loss (Cross-Entropy Loss)\n",
        "from sklearn import datasets\n",
        "from sklearn.model_selection import train_test_split\n",
        "from sklearn.naive_bayes import GaussianNB\n",
        "from sklearn.metrics import log_loss\n",
        "\n",
        "data = datasets.load_iris()\n",
        "X, y = data.data, data.target\n",
        "# Convert to binary for simpler interpretation or use multi-class log_loss directly\n",
        "X_train, X_test, y_train, y_test = train_test_split(X, y, test_size=0.3, random_state=42)\n",
        "\n",
        "gnb = GaussianNB()\n",
        "gnb.fit(X_train, y_train)\n",
        "probs = gnb.predict_proba(X_test)\n",
        "print(\"Log Loss:\", log_loss(y_test, probs))\n"
      ],
      "metadata": {
        "colab": {
          "base_uri": "https://localhost:8080/"
        },
        "id": "mfzaWaumwgbI",
        "outputId": "ee2f3d13-f2f8-4dbc-dc18-668b27ef1e6c"
      },
      "execution_count": 21,
      "outputs": [
        {
          "output_type": "stream",
          "name": "stdout",
          "text": [
            "Log Loss: 0.04896447467183247\n"
          ]
        }
      ]
    },
    {
      "cell_type": "code",
      "source": [
        "# Q23) Train an SVM Classifier and visualize the Confusion Matrix using seaborn\n",
        "from sklearn import datasets\n",
        "from sklearn.model_selection import train_test_split\n",
        "from sklearn.svm import SVC\n",
        "from sklearn.metrics import confusion_matrix\n",
        "import seaborn as sns\n",
        "import matplotlib.pyplot as plt\n",
        "\n",
        "data = datasets.load_wine()\n",
        "X, y = data.data, data.target\n",
        "X_train, X_test, y_train, y_test = train_test_split(X, y, test_size=0.3, random_state=42)\n",
        "\n",
        "clf = SVC(kernel='rbf', gamma='scale', random_state=42)\n",
        "clf.fit(X_train, y_train)\n",
        "y_pred = clf.predict(X_test)\n",
        "\n",
        "cm = confusion_matrix(y_test, y_pred)\n",
        "plt.figure(figsize=(6,4))\n",
        "sns.heatmap(cm, annot=True, fmt='d', cmap='Blues')\n",
        "plt.xlabel('Predicted')\n",
        "plt.ylabel('Actual')\n",
        "plt.title('Confusion Matrix (SVM)')\n",
        "plt.show()\n"
      ],
      "metadata": {
        "colab": {
          "base_uri": "https://localhost:8080/",
          "height": 410
        },
        "id": "-AEPuR1Dwhf_",
        "outputId": "af16d256-7eac-4d8b-9044-e4ab5326a4b6"
      },
      "execution_count": 22,
      "outputs": [
        {
          "output_type": "display_data",
          "data": {
            "text/plain": [
              "<Figure size 600x400 with 2 Axes>"
            ],
            "image/png": "[encoded data removed]"
          },
          "metadata": {}
        }
      ]
    },
    {
      "cell_type": "code",
      "source": [
        "# Q24) Train an SVM Regressor (SVR) and evaluate its performance using Mean Absolute Error (MAE)\n",
        "from sklearn.datasets import fetch_california_housing\n",
        "from sklearn.model_selection import train_test_split\n",
        "from sklearn.svm import SVR\n",
        "from sklearn.metrics import mean_absolute_error\n",
        "from sklearn.preprocessing import StandardScaler\n",
        "\n",
        "housing = fetch_california_housing()\n",
        "X, y = housing.data, housing.target\n",
        "X_train, X_test, y_train, y_test = train_test_split(X, y, test_size=0.2, random_state=42)\n",
        "\n",
        "scaler = StandardScaler()\n",
        "X_train = scaler.fit_transform(X_train)\n",
        "X_test = scaler.transform(X_test)\n",
        "\n",
        "svr = SVR(kernel='rbf')\n",
        "svr.fit(X_train, y_train)\n",
        "y_pred = svr.predict(X_test)\n",
        "print(\"Mean Absolute Error (MAE):\", mean_absolute_error(y_test, y_pred))\n"
      ],
      "metadata": {
        "colab": {
          "base_uri": "https://localhost:8080/"
        },
        "id": "voWlZusdwjG8",
        "outputId": "b7eea1eb-fe79-43ea-f7cf-754f47ea4198"
      },
      "execution_count": 23,
      "outputs": [
        {
          "output_type": "stream",
          "name": "stdout",
          "text": [
            "Mean Absolute Error (MAE): 0.39859828301457567\n"
          ]
        }
      ]
    },
    {
      "cell_type": "code",
      "source": [
        "# Q25) Train a Naïve Bayes classifier and evaluate its performance using the ROC-AUC score\n",
        "from sklearn import datasets\n",
        "from sklearn.model_selection import train_test_split\n",
        "from sklearn.naive_bayes import GaussianNB\n",
        "from sklearn.metrics import roc_auc_score\n",
        "from sklearn.preprocessing import label_binarize\n",
        "\n",
        "# Use Wine dataset but convert to binary for ROC usage (class 0 vs others)\n",
        "wine = datasets.load_wine()\n",
        "X, y = wine.data, wine.target\n",
        "y_bin = (y == 0).astype(int)  # binary: class 0 vs rest\n",
        "X_train, X_test, y_train, y_test = train_test_split(X, y_bin, test_size=0.3, random_state=42)\n",
        "\n",
        "gnb = GaussianNB()\n",
        "gnb.fit(X_train, y_train)\n",
        "probs = gnb.predict_proba(X_test)[:,1]\n",
        "print(\"ROC-AUC:\", roc_auc_score(y_test, probs))\n"
      ],
      "metadata": {
        "colab": {
          "base_uri": "https://localhost:8080/"
        },
        "id": "2vlIsPfDwkhA",
        "outputId": "72fd40cd-605d-45c5-e81d-6ac7176afd1b"
      },
      "execution_count": 24,
      "outputs": [
        {
          "output_type": "stream",
          "name": "stdout",
          "text": [
            "ROC-AUC: 1.0\n"
          ]
        }
      ]
    },
    {
      "cell_type": "code",
      "source": [
        "# Q26) Train an SVM Classifier and visualize the Precision-Recall Curve\n",
        "from sklearn import datasets\n",
        "from sklearn.model_selection import train_test_split\n",
        "from sklearn.svm import SVC\n",
        "from sklearn.metrics import precision_recall_curve, average_precision_score\n",
        "import matplotlib.pyplot as plt\n",
        "from sklearn.preprocessing import label_binarize\n",
        "import numpy as np\n",
        "\n",
        "# Use a binary task from the breast cancer dataset\n",
        "data = datasets.load_breast_cancer()\n",
        "X, y = data.data, data.target\n",
        "X_train, X_test, y_train, y_test = train_test_split(X, y, test_size=0.3, random_state=42)\n",
        "\n",
        "clf = SVC(kernel='rbf', probability=True)\n",
        "clf.fit(X_train, y_train)\n",
        "probs = clf.predict_proba(X_test)[:,1]\n",
        "\n",
        "precision, recall, _ = precision_recall_curve(y_test, probs)\n",
        "avg_prec = average_precision_score(y_test, probs)\n",
        "\n",
        "plt.figure(figsize=(6,5))\n",
        "plt.plot(recall, precision, label=f'AP = {avg_prec:.3f}')\n",
        "plt.xlabel('Recall')\n",
        "plt.ylabel('Precision')\n",
        "plt.title('Precision-Recall Curve (SVM)')\n",
        "plt.legend()\n",
        "plt.show()\n"
      ],
      "metadata": {
        "colab": {
          "base_uri": "https://localhost:8080/",
          "height": 487
        },
        "id": "anSo9dkkwlsU",
        "outputId": "ca2f3262-3b5a-4726-88ba-bdc103870a68"
      },
      "execution_count": 25,
      "outputs": [
        {
          "output_type": "display_data",
          "data": {
            "text/plain": [
              "<Figure size 600x500 with 1 Axes>"
            ],
            "image/png": "[encoded data removed]"
          },
          "metadata": {}
        }
      ]
    },
    {
      "cell_type": "code",
      "source": [],
      "metadata": {
        "id": "R9JLiBLzwmyQ"
      },
      "execution_count": null,
      "outputs": []
    }
  ]
}