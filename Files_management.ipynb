{
  "nbformat": 4,
  "nbformat_minor": 0,
  "metadata": {
    "colab": {
      "provenance": []
    },
    "kernelspec": {
      "name": "python3",
      "display_name": "Python 3"
    },
    "language_info": {
      "name": "python"
    }
  },
  "cells": [
    {
      "cell_type": "markdown",
      "source": [
        "Q1). What is the difference between interpreted and compiled languages?\n",
        "\n",
        "-> Interpreted Languages: Execute code line-by-line. Example: Python.\n",
        "-> Compiled Languages: Translate entire code into machine code before execution. Example: C++.\n",
        "-> Difference: Interpreted languages are generally slower but more flexible; compiled ones are faster but need a separate compile step."
      ],
      "metadata": {
        "id": "7kc7PbVlrA8c"
      }
    },
    {
      "cell_type": "markdown",
      "source": [
        "Q2). What is exception handling in Python?\n",
        "\n",
        "-> Exception handling is a mechanism to manage runtime errors, allowing the program to continue or fail gracefully using try, except, finally, and else blocks.\n",
        "\n"
      ],
      "metadata": {
        "id": "Pj-zkixdrA6F"
      }
    },
    {
      "cell_type": "markdown",
      "source": [
        "Q3). What is the purpose of the finally block in exception handling?\n",
        "\n",
        "-> The finally block is always executed after the try and except blocks, regardless of whether an exception occurred. It’s used for cleanup operations like closing files or releasing resources."
      ],
      "metadata": {
        "id": "AsutEyqvrA3s"
      }
    },
    {
      "cell_type": "markdown",
      "source": [
        " Q4). What is logging in Python?\n",
        "\n",
        "-> Logging is the process of recording messages during program execution. The logging module helps track events, errors, or information for debugging and monitoring."
      ],
      "metadata": {
        "id": "02heCRQHrA1c"
      }
    },
    {
      "cell_type": "markdown",
      "source": [
        "Q5). What is the significance of the __del__ method in Python?\n",
        "\n",
        "-> The __del__ method is a destructor called when an object is about to be destroyed. It is used for cleanup tasks, like closing files or releasing resources."
      ],
      "metadata": {
        "id": "oPRSwtBNrAy8"
      }
    },
    {
      "cell_type": "markdown",
      "source": [
        "Q6). What is the difference between import and from ... import in Python?\n",
        "\n",
        "-> import module imports the whole module.\n",
        "-> from module import function imports only a specific part."
      ],
      "metadata": {
        "id": "yK-BLm7-rAwd"
      }
    },
    {
      "cell_type": "markdown",
      "source": [
        "Q7). How can you handle multiple exceptions in Python?\n",
        "\n",
        "-> You can handle multiple exceptions using multiple except blocks or by grouping exceptions in a tuple."
      ],
      "metadata": {
        "id": "1Pgs6qwArAuN"
      }
    },
    {
      "cell_type": "markdown",
      "source": [
        "Q8). What is the purpose of the with statement when handling files in Python?\n",
        "\n",
        "-> The with statement automatically handles file opening and closing. It ensures the file is properly closed even if an error occurs.\n",
        "\n",
        "\n"
      ],
      "metadata": {
        "id": "iseOq7PbrAr1"
      }
    },
    {
      "cell_type": "markdown",
      "source": [
        "What is the difference between multithreading and multiprocessing?\n",
        "\n",
        "-> Multithreading: Multiple threads in a single process. Suitable for I/O-bound tasks.\n",
        "-> Multiprocessing: Multiple processes with separate memory. Best for CPU-bound tasks.\n",
        "\n"
      ],
      "metadata": {
        "id": "OsjvfXyvrApd"
      }
    },
    {
      "cell_type": "markdown",
      "source": [
        "Q10). What are the advantages of using logging in a program?\n",
        "\n",
        "->\n",
        "\n",
        "Helps track events or bugs.\n",
        "\n",
        "Saves logs for future analysis.\n",
        "\n",
        "Can be customized for different levels (DEBUG, INFO, ERROR).\n",
        "\n",
        "Better than using print statements"
      ],
      "metadata": {
        "id": "Zf4NkYP-rAnF"
      }
    },
    {
      "cell_type": "markdown",
      "source": [
        "Q11). What is memory management in Python?\n",
        "\n",
        "-> Python uses automatic memory management via reference counting and garbage collection to allocate and free memory as needed.\n",
        "\n"
      ],
      "metadata": {
        "id": "ThM77NbbrAk2"
      }
    },
    {
      "cell_type": "markdown",
      "source": [
        "Q12). What are the basic steps involved in exception handling in Python?\n",
        "\n",
        "->\n",
        "\n",
        "Use try block to wrap code that might raise an error.\n",
        "\n",
        "Use except block to handle errors.\n",
        "\n",
        "Optionally use else for code that runs if no exception occurs.\n",
        "\n",
        "Use finally for cleanup."
      ],
      "metadata": {
        "id": "xI5Yof-ErAik"
      }
    },
    {
      "cell_type": "markdown",
      "source": [
        "Q13). Why is memory management important in Python?\n",
        "\n",
        "-> It helps avoid memory leaks, ensures efficient use of memory, and improves program performance and stability."
      ],
      "metadata": {
        "id": "zEU_SyvPrAgM"
      }
    },
    {
      "cell_type": "markdown",
      "source": [
        "Q14). What is the role of try and except in exception handling?\n",
        "\n",
        "->\n",
        "\n",
        "try: Block that contains code that may raise an exception.\n",
        "\n",
        "except: Block that handles the error if one occurs."
      ],
      "metadata": {
        "id": "UV6YTZ2BrAd1"
      }
    },
    {
      "cell_type": "markdown",
      "source": [
        "Q15). How does Python's garbage collection system work?\n",
        "\n",
        "-> Python uses reference counting and a cyclic garbage collector to automatically delete unused objects and reclaim memory.\n",
        "\n"
      ],
      "metadata": {
        "id": "iRyOmBOXrAbt"
      }
    },
    {
      "cell_type": "markdown",
      "source": [
        "Q16). What is the purpose of the else block in exception handling?\n",
        "\n",
        "-> The else block runs if the try block completes without raising an exception. It’s useful for code that should run only when no error occurs.\n",
        "\n"
      ],
      "metadata": {
        "id": "83Q7GxwDrAZc"
      }
    },
    {
      "cell_type": "markdown",
      "source": [
        "Q17). What are the common logging levels in Python?\n",
        "\n",
        "->\n",
        "\n",
        "DEBUG\n",
        "\n",
        "INFO\n",
        "\n",
        "WARNING\n",
        "\n",
        "ERROR\n",
        "\n",
        "CRITICAL"
      ],
      "metadata": {
        "id": "mmq6jg3GrAW9"
      }
    },
    {
      "cell_type": "markdown",
      "source": [
        "Q18). What is the difference between os.fork() and multiprocessing in Python?\n",
        "\n",
        "-> os.fork(): Unix-specific, low-level process creation.\n",
        "-> multiprocessing: Cross-platform, high-level API to spawn and manage processes."
      ],
      "metadata": {
        "id": "QBsqcYIIrAUd"
      }
    },
    {
      "cell_type": "markdown",
      "source": [
        "Q19). What is the importance of closing a file in Python?\n",
        "\n",
        "-> It ensures that all data is written to disk, prevents resource leaks, and frees up system resources.\n",
        "\n"
      ],
      "metadata": {
        "id": "c2qQtOmprASF"
      }
    },
    {
      "cell_type": "markdown",
      "source": [
        "Q20). What is the difference between file.read() and file.readline() in Python?\n",
        "\n",
        "-> file.read() reads the entire file content.\n",
        "-> file.readline() reads a single line at a time."
      ],
      "metadata": {
        "id": "790W5ZAwrANV"
      }
    },
    {
      "cell_type": "markdown",
      "source": [
        "Q21). What is the logging module in Python used for?\n",
        "\n",
        "-> It is used to record messages (info, warnings, errors) to files, consoles, or external systems for debugging and monitoring."
      ],
      "metadata": {
        "id": "LrMbXnNR30we"
      }
    },
    {
      "cell_type": "markdown",
      "source": [
        "Q22). What is the os module in Python used for in file handling?\n",
        "\n",
        "-> The os module helps with file and directory operations like creating, removing, renaming files, and checking paths.\n",
        "\n"
      ],
      "metadata": {
        "id": "zuanHouz31xu"
      }
    },
    {
      "cell_type": "markdown",
      "source": [
        "Q23). What are the challenges associated with memory management in Python?\n",
        "\n",
        "->\n",
        "\n",
        "Circular references.\n",
        "\n",
        "Memory fragmentation.\n",
        "\n",
        "Managing large objects in limited memory."
      ],
      "metadata": {
        "id": "1FjdcTds32VO"
      }
    },
    {
      "cell_type": "markdown",
      "source": [
        "Q24). How do you raise an exception manually in Python?\n",
        "\n",
        "-> Use the raise keyword followed by an exception type."
      ],
      "metadata": {
        "id": "jH6zKh0C327O"
      }
    },
    {
      "cell_type": "markdown",
      "source": [
        "Q25). Why is it important to use multithreading in certain applications?\n",
        "\n",
        "-> Multithreading improves performance in I/O-bound tasks (like file/network access), makes programs more responsive, and allows concurrent execution."
      ],
      "metadata": {
        "id": "9QEUjLy44HI-"
      }
    },
    {
      "cell_type": "code",
      "execution_count": 1,
      "metadata": {
        "id": "YZWr5pKoqs-R"
      },
      "outputs": [],
      "source": [
        "# Q1). How can you open a file for writing in Python and write a string to it?\n",
        "with open(\"output.txt\", \"w\") as file:\n",
        "    file.write(\"Hello, this is a written line.\")\n"
      ]
    },
    {
      "cell_type": "code",
      "source": [
        "# Q2). Write a Python program to read the contents of a file and print each line\n",
        "with open(\"output.txt\", \"r\") as file:\n",
        "    for line in file:\n",
        "        print(line.strip())\n"
      ],
      "metadata": {
        "colab": {
          "base_uri": "https://localhost:8080/"
        },
        "id": "uWMMca8p4MIW",
        "outputId": "50fdb867-e7e2-46fd-e3b9-b81c70b1174b"
      },
      "execution_count": 2,
      "outputs": [
        {
          "output_type": "stream",
          "name": "stdout",
          "text": [
            "Hello, this is a written line.\n"
          ]
        }
      ]
    },
    {
      "cell_type": "code",
      "source": [
        "# Q3). How would you handle a case where the file doesn't exist while trying to open it for reading?\n",
        "try:\n",
        "    with open(\"nonexistent.txt\", \"r\") as file:\n",
        "        print(file.read())\n",
        "except FileNotFoundError:\n",
        "    print(\"File not found!\")\n"
      ],
      "metadata": {
        "colab": {
          "base_uri": "https://localhost:8080/"
        },
        "id": "0V7RK1TY4NTP",
        "outputId": "173f3cac-6c15-4d63-f411-1abfeee1fd28"
      },
      "execution_count": 3,
      "outputs": [
        {
          "output_type": "stream",
          "name": "stdout",
          "text": [
            "File not found!\n"
          ]
        }
      ]
    },
    {
      "cell_type": "code",
      "source": [
        "# Q4). Write a Python script that reads from one file and writes its content to another file\n",
        "with open(\"source.txt\", \"r\") as source, open(\"destination.txt\", \"w\") as dest:\n",
        "    dest.write(source.read())\n"
      ],
      "metadata": {
        "id": "27iG7gbG4NQt"
      },
      "execution_count": null,
      "outputs": []
    },
    {
      "cell_type": "code",
      "source": [
        "# Q5). How would you catch and handle division by zero error in Python?\n",
        "try:\n",
        "    result = 10 / 0\n",
        "except ZeroDivisionError:\n",
        "    print(\"Cannot divide by zero!\")\n"
      ],
      "metadata": {
        "colab": {
          "base_uri": "https://localhost:8080/"
        },
        "id": "GDjD7R_T4NOf",
        "outputId": "e1e92863-21b7-4131-f2db-069b9b5ac99b"
      },
      "execution_count": 5,
      "outputs": [
        {
          "output_type": "stream",
          "name": "stdout",
          "text": [
            "Cannot divide by zero!\n"
          ]
        }
      ]
    },
    {
      "cell_type": "code",
      "source": [
        "# Q6). Write a Python program that logs an error message to a log file when a division by zero exception occurs\n",
        "import logging\n",
        "\n",
        "logging.basicConfig(filename=\"error.log\", level=logging.ERROR)\n",
        "\n",
        "try:\n",
        "    result = 10 / 0\n",
        "except ZeroDivisionError as e:\n",
        "    logging.error(f\"Error occurred: {e}\")\n"
      ],
      "metadata": {
        "colab": {
          "base_uri": "https://localhost:8080/"
        },
        "id": "BEMx43hO4NMG",
        "outputId": "bc937896-f8ab-4f7e-eab8-ffe58dbd3903"
      },
      "execution_count": 6,
      "outputs": [
        {
          "output_type": "stream",
          "name": "stderr",
          "text": [
            "ERROR:root:Error occurred: division by zero\n"
          ]
        }
      ]
    },
    {
      "cell_type": "code",
      "source": [
        "# Q7). How do you log information at different levels (INFO, ERROR, WARNING) in Python using the logging module?\n",
        "import logging\n",
        "\n",
        "logging.basicConfig(filename=\"logfile.log\", level=logging.DEBUG)\n",
        "logging.info(\"This is an info message.\")\n",
        "logging.warning(\"This is a warning.\")\n",
        "logging.error(\"This is an error.\")\n"
      ],
      "metadata": {
        "colab": {
          "base_uri": "https://localhost:8080/"
        },
        "id": "S2JM25nb4NJl",
        "outputId": "143482fa-f58d-47d1-90ec-b3e4e8ef5641"
      },
      "execution_count": 7,
      "outputs": [
        {
          "output_type": "stream",
          "name": "stderr",
          "text": [
            "WARNING:root:This is a warning.\n",
            "ERROR:root:This is an error.\n"
          ]
        }
      ]
    },
    {
      "cell_type": "code",
      "source": [
        "# Q8). Write a program to handle a file opening error using exception handling\n",
        "try:\n",
        "    with open(\"missing.txt\", \"r\") as file:\n",
        "        print(file.read())\n",
        "except FileNotFoundError:\n",
        "    print(\"Error: File not found.\")\n"
      ],
      "metadata": {
        "colab": {
          "base_uri": "https://localhost:8080/"
        },
        "id": "YH4Lt2aV4NHG",
        "outputId": "b624b621-40ab-4dc8-d992-ed103c4e3280"
      },
      "execution_count": 8,
      "outputs": [
        {
          "output_type": "stream",
          "name": "stdout",
          "text": [
            "Error: File not found.\n"
          ]
        }
      ]
    },
    {
      "cell_type": "code",
      "source": [
        "# Q9). How can you read a file line by line and store its content in a list in Python?\n",
        "with open(\"data.txt\", \"r\") as file:\n",
        "    lines = [line.strip() for line in file]\n",
        "print(lines)\n"
      ],
      "metadata": {
        "id": "ioQtTaIb4NEp"
      },
      "execution_count": null,
      "outputs": []
    },
    {
      "cell_type": "code",
      "source": [
        "# Q10). How can you append data to an existing file in Python?\n",
        "with open(\"data.txt\", \"a\") as file:\n",
        "    file.write(\"\\nAppended line.\")\n"
      ],
      "metadata": {
        "id": "7w5E54XL4NCP"
      },
      "execution_count": 10,
      "outputs": []
    },
    {
      "cell_type": "code",
      "source": [
        "# Q11). Write a Python program that uses a try-except block to handle an error when attempting to access a dictionary key that doesn't exist\n",
        "my_dict = {\"name\": \"Alice\"}\n",
        "try:\n",
        "    print(my_dict[\"age\"])\n",
        "except KeyError:\n",
        "    print(\"Key does not exist.\")\n"
      ],
      "metadata": {
        "colab": {
          "base_uri": "https://localhost:8080/"
        },
        "id": "yNkEU2Og4M_m",
        "outputId": "049133f6-8e3f-4c31-997f-97ab71249ed7"
      },
      "execution_count": 11,
      "outputs": [
        {
          "output_type": "stream",
          "name": "stdout",
          "text": [
            "Key does not exist.\n"
          ]
        }
      ]
    },
    {
      "cell_type": "code",
      "source": [
        "# Q12). Write a program that demonstrates using multiple except blocks to handle different types of exceptions\n",
        "try:\n",
        "    x = int(\"abc\")\n",
        "    result = 10 / 0\n",
        "except ValueError:\n",
        "    print(\"ValueError occurred.\")\n",
        "except ZeroDivisionError:\n",
        "    print(\"ZeroDivisionError occurred.\")\n"
      ],
      "metadata": {
        "colab": {
          "base_uri": "https://localhost:8080/"
        },
        "id": "0LiioZc14M9O",
        "outputId": "396a918a-49ac-4a9a-ce21-b3e56b6f813b"
      },
      "execution_count": 12,
      "outputs": [
        {
          "output_type": "stream",
          "name": "stdout",
          "text": [
            "ValueError occurred.\n"
          ]
        }
      ]
    },
    {
      "cell_type": "code",
      "source": [
        "# Q13). How would you check if a file exists before attempting to read it in Python?\n",
        "import os\n",
        "\n",
        "if os.path.exists(\"myfile.txt\"):\n",
        "    with open(\"myfile.txt\", \"r\") as file:\n",
        "        print(file.read())\n",
        "else:\n",
        "    print(\"File does not exist.\")\n"
      ],
      "metadata": {
        "colab": {
          "base_uri": "https://localhost:8080/"
        },
        "id": "PkcRGgmV4M62",
        "outputId": "7f4d63fa-25bf-4a81-8cff-e7b36cfc4adc"
      },
      "execution_count": 13,
      "outputs": [
        {
          "output_type": "stream",
          "name": "stdout",
          "text": [
            "File does not exist.\n"
          ]
        }
      ]
    },
    {
      "cell_type": "code",
      "source": [
        "# Q14). Write a program that uses the logging module to log both informational and error messages\n",
        "import logging\n",
        "\n",
        "logging.basicConfig(filename=\"app.log\", level=logging.DEBUG)\n",
        "logging.info(\"Program started successfully.\")\n",
        "try:\n",
        "    x = 1 / 0\n",
        "except ZeroDivisionError as e:\n",
        "    logging.error(f\"An error occurred: {e}\")\n"
      ],
      "metadata": {
        "colab": {
          "base_uri": "https://localhost:8080/"
        },
        "id": "aWEAE8bj4M4O",
        "outputId": "950d0217-b571-4bac-e983-39c05422ea91"
      },
      "execution_count": 14,
      "outputs": [
        {
          "output_type": "stream",
          "name": "stderr",
          "text": [
            "ERROR:root:An error occurred: division by zero\n"
          ]
        }
      ]
    },
    {
      "cell_type": "code",
      "source": [
        "# Q15). Write a Python program that prints the content of a file and handles the case when the file is empty\n",
        "with open(\"empty.txt\", \"r\") as file:\n",
        "    content = file.read()\n",
        "    if not content:\n",
        "        print(\"File is empty.\")\n",
        "    else:\n",
        "        print(content)\n"
      ],
      "metadata": {
        "id": "seVz6nVF4M1u"
      },
      "execution_count": null,
      "outputs": []
    },
    {
      "cell_type": "code",
      "source": [
        "# Q16). Demonstrate how to use memory profiling to check the memory usage of a small program\n",
        "# Note: Run with `memory_profiler` installed (`pip install memory-profiler`)\n",
        "from memory_profiler import profile\n",
        "\n",
        "@profile\n",
        "def my_function():\n",
        "    data = [i for i in range(10000)]\n",
        "    return sum(data)\n",
        "\n",
        "my_function()\n"
      ],
      "metadata": {
        "id": "cdEyTtYb4MzO"
      },
      "execution_count": null,
      "outputs": []
    },
    {
      "cell_type": "code",
      "source": [
        "# Q17). Write a Python program to create and write a list of numbers to a file, one number per line\n",
        "numbers = [1, 2, 3, 4, 5]\n",
        "with open(\"numbers.txt\", \"w\") as file:\n",
        "    for num in numbers:\n",
        "        file.write(f\"{num}\\n\")\n"
      ],
      "metadata": {
        "id": "554rrx534Mwe"
      },
      "execution_count": 17,
      "outputs": []
    },
    {
      "cell_type": "code",
      "source": [
        "# Q18). How would you implement a basic logging setup that logs to a file with rotation after 1MB?\n",
        "import logging\n",
        "from logging.handlers import RotatingFileHandler\n",
        "\n",
        "logger = logging.getLogger()\n",
        "handler = RotatingFileHandler(\"rotating.log\", maxBytes=1024*1024, backupCount=2)\n",
        "logger.addHandler(handler)\n",
        "logger.setLevel(logging.INFO)\n",
        "logger.info(\"Logging with rotation.\")\n"
      ],
      "metadata": {
        "colab": {
          "base_uri": "https://localhost:8080/"
        },
        "id": "4ZKe8yW54Mtm",
        "outputId": "6d88e664-0289-4c8c-be9a-a342ac6cf2b3"
      },
      "execution_count": 18,
      "outputs": [
        {
          "output_type": "stream",
          "name": "stderr",
          "text": [
            "INFO:root:Logging with rotation.\n"
          ]
        }
      ]
    },
    {
      "cell_type": "code",
      "source": [
        "# Q19). Write a program that handles both IndexError and KeyError using a try-except block\n",
        "my_list = [1, 2, 3]\n",
        "my_dict = {\"a\": 1}\n",
        "try:\n",
        "    print(my_list[5])\n",
        "    print(my_dict[\"b\"])\n",
        "except IndexError:\n",
        "    print(\"Index out of range.\")\n",
        "except KeyError:\n",
        "    print(\"Key not found.\")\n"
      ],
      "metadata": {
        "colab": {
          "base_uri": "https://localhost:8080/"
        },
        "id": "zCxFWmob4MmX",
        "outputId": "b898358d-b239-4ee6-cc94-34c883581285"
      },
      "execution_count": 19,
      "outputs": [
        {
          "output_type": "stream",
          "name": "stdout",
          "text": [
            "Index out of range.\n"
          ]
        }
      ]
    },
    {
      "cell_type": "code",
      "source": [
        "# Q20). How would you open a file and read its contents using a context manager in Python?\n",
        "with open(\"file.txt\", \"r\") as file:\n",
        "    content = file.read()\n",
        "    print(content)\n"
      ],
      "metadata": {
        "id": "NltBwvMO5Fkv"
      },
      "execution_count": null,
      "outputs": []
    },
    {
      "cell_type": "code",
      "source": [
        "# Q21). Write a Python program that reads a file and prints the number of occurrences of a specific word\n",
        "word = \"python\"\n",
        "count = 0\n",
        "with open(\"sample.txt\", \"r\") as file:\n",
        "    for line in file:\n",
        "        count += line.lower().count(word.lower())\n",
        "print(f\"The word '{word}' occurred {count} times.\")\n"
      ],
      "metadata": {
        "id": "mxB_prjX5FdO"
      },
      "execution_count": null,
      "outputs": []
    },
    {
      "cell_type": "code",
      "source": [
        "# Q22). How can you check if a file is empty before attempting to read its contents?\n",
        "import os\n",
        "\n",
        "if os.stat(\"check.txt\").st_size == 0:\n",
        "    print(\"File is empty.\")\n",
        "else:\n",
        "    with open(\"check.txt\", \"r\") as file:\n",
        "        print(file.read())\n"
      ],
      "metadata": {
        "id": "TxP3OkPA5FU3"
      },
      "execution_count": null,
      "outputs": []
    },
    {
      "cell_type": "code",
      "source": [
        "# Q23). Write a Python program that writes to a log file when an error occurs during file handling\n",
        "import logging\n",
        "\n",
        "logging.basicConfig(filename=\"file_error.log\", level=logging.ERROR)\n",
        "\n",
        "try:\n",
        "    with open(\"nofile.txt\", \"r\") as file:\n",
        "        data = file.read()\n",
        "except FileNotFoundError as e:\n",
        "    logging.error(f\"File error: {e}\")\n"
      ],
      "metadata": {
        "id": "689joqKZ5PSX"
      },
      "execution_count": null,
      "outputs": []
    }
  ]
}