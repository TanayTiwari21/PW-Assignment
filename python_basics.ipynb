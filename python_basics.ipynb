{
  "nbformat": 4,
  "nbformat_minor": 0,
  "metadata": {
    "colab": {
      "provenance": []
    },
    "kernelspec": {
      "name": "python3",
      "display_name": "Python 3"
    },
    "language_info": {
      "name": "python"
    }
  },
  "cells": [
    {
      "cell_type": "markdown",
      "source": [
        "#PYTHON BASICS"
      ],
      "metadata": {
        "id": "wo1xwnyxIwPb"
      }
    },
    {
      "cell_type": "markdown",
      "source": [
        "Q1. What is Python, and why is it popular?\n",
        "\n",
        "->\n",
        "  Python is a programming language\n",
        "  that is easy to understand and write, making it a popular choice among developers and programmers.\n",
        "\n",
        "  It is compatible with various programming paradigms, such as procedural, object-oriented, and functional programming.\n",
        "\n",
        "  Python has a large and active community of developers, an extensive standard library, and third-party packages for various domains."
      ],
      "metadata": {
        "id": "6rOu6AMeIvKK"
      }
    },
    {
      "cell_type": "markdown",
      "source": [
        "Q2.  What is an interpreter in Python?\n",
        "\n",
        "->   The Python interpreter is a crucial\n",
        "     component that allows Python code to be executed. It serves as a bridge between the human-readable Python code and the machine code that the computer's processor can understand. At its core, the interpreter translates Python code into instructions that the CPU can execute."
      ],
      "metadata": {
        "id": "1knCSCvyI_vB"
      }
    },
    {
      "cell_type": "markdown",
      "source": [
        "Q3. What are pre-defined keywords in Python?\n",
        "\n",
        "->  Keywords are reserved words in  \n",
        "  Python that have special meanings and cannot be used as identifiers.\n",
        "  ex:- and,as,assert,break,class,continue,def,del,elif,else,except,False,finally,for,from,global,if,import,in,is,lambda,nonlocal,None,not,or,pass,raise,return,True,try,while,with,yield.\n"
      ],
      "metadata": {
        "id": "S2CmRVwVKtVe"
      }
    },
    {
      "cell_type": "markdown",
      "source": [
        "Q4. Can keywords be used as variable names?\n",
        "\n",
        "-> No!,Keywords are reserved words in Python that have special meanings and cannot be used as identifiers (variable names, function names, etc.)."
      ],
      "metadata": {
        "id": "bOzUVquiMAdZ"
      }
    },
    {
      "cell_type": "markdown",
      "source": [
        "Q5. What is mutability in Python?\n",
        "\n",
        "->  Mutable objects, such as lists and dictionaries, can be modified after creation, while immutable objects, such as tuples and strings, cannot."
      ],
      "metadata": {
        "id": "2yLX1sNQMdqq"
      }
    },
    {
      "cell_type": "markdown",
      "source": [
        "Q6. Why are lists mutable, but tuples are immutable?\n",
        "\n",
        "-> Mutability affects how objects are stored and manipulated in memory, impacting performance, memory usage, and concurrency in Python programs.\n",
        "\n",
        "Lists are designed for dynamic data that changes over time (adding, removing, updating elements).Python allocates extra memory for lists, so they can grow and shrink easily.\n",
        "\n",
        "Tuples are designed for fixed data that shouldn't change (like coordinates, database records). Since they don’t change, they use less memory and can be faster than lists.\n",
        "\n",
        "\n",
        "\n"
      ],
      "metadata": {
        "id": "94EN6DqONSyz"
      }
    },
    {
      "cell_type": "markdown",
      "source": [
        "Q7.  What is the difference between “==” and “is” operators in Python?\n",
        "\n",
        "-> In Python, both is and == are used for comparisons, but they serve different purposes and are used in different contexts.\n",
        "\n",
        "The == operator is used to compare the values of two objects. It checks whether the values of the objects are equal.\n",
        "\n",
        "The is operator is used to compare the identity of two objects. It checks whether the two variables point to the same object in memory."
      ],
      "metadata": {
        "id": "2sdhG4PQOzBn"
      }
    },
    {
      "cell_type": "markdown",
      "source": [
        "Q8. What are logical operators in Python?\n",
        "\n",
        "-> perators are special symbols or keywords that are used to carry out specific actions on numbers or variables in Python expressions.\n",
        "\n",
        "Python supports various types of operators, including arithmetic operators (+, -, *, /), comparison operators (==, !=, <, >), logical operators (and, or, not), assignment operators (=, +=, -=, *=, /=), etc.\n",
        "\n",
        "Operators have precedence and associativity rules that determine the order of evaluation in expressions."
      ],
      "metadata": {
        "id": "0b4bSWu-Pcae"
      }
    },
    {
      "cell_type": "markdown",
      "source": [
        "Q9. What is type casting in Python?\n",
        "\n",
        "->  Type casting, also referred to as type conversion, is the process of changing one data type to another in Python. Using typecasting we can change one data type into another. for example a=4.7 now we need to convert it into intger we can do this by a=int(a) this will covert a  value into 4.\n",
        "\n",
        "Python provides built-in functions for type casting, such as int(), float(), str(), list(), tuple(), dict(), etc.\n",
        "\n",
        "Type casting is often necessary for performing arithmetic operations, data manipulation, and input/output operations in Python programs."
      ],
      "metadata": {
        "id": "8Z-USD-vQBA_"
      }
    },
    {
      "cell_type": "markdown",
      "source": [
        "Q10. What is the difference between implicit and explicit type casting\n",
        "\n",
        "->\n",
        "Implicit Type Conversion:-\n",
        "\n",
        "Implicit type conversion, also known as coercion, occurs automatically when Python converts one data type to another without any explicit instruction from the programmer. This typically happens during operations involving mixed data types where promoting one data type to another prevents loss of data.\n",
        "\n",
        "ex:- a = 7\n",
        "print(type(a)) # Output: <class 'int'>\n",
        "\n",
        "b = 3.0\n",
        "print(type(b)) # Output: <class 'float'>\n",
        "\n",
        "c = a + b\n",
        "print(c) # Output: 10.0\n",
        "print(type(c)) # Output: <class 'float'>\n",
        "\n",
        "Explicit Type Conversion:-\n",
        "\n",
        "Explicit type conversion, also known as type casting, requires the programmer to manually convert a value from one data type to another using predefined functions like int(), float(), str(), etc. This gives the programmer more control over the conversion process.\n",
        "\n",
        "ex:- a = 5.9\n",
        "n = int(a)\n",
        "print(n) # Output: 5\n",
        "print(type(n)) # Output: <class 'int'>\n",
        "\n",
        "b = \"123\"\n",
        "m = int(b)\n",
        "print(m) # Output: 123\n",
        "print(type(m)) # Output: <class 'int'>"
      ],
      "metadata": {
        "id": "5A_8VZXxRkt7"
      }
    },
    {
      "cell_type": "markdown",
      "source": [
        "Q11. What is the purpose of conditional statements in Python?\n",
        "\n",
        "-> Conditionals in Python are used to execute code based on the evaluation of one or more conditions.\n",
        "Python supports conditional statements such as if, elif (else if), and else to control the flow of execution.\n",
        "Conditionals can be nested to handle multiple conditions and control different branches of execution based on the outcome of logical expressions.\n",
        "\n",
        "ex:- suppose a person is called an adult if his age is greater or equal to 18.\n",
        "here we can use the condtion.\n",
        "\n",
        "if(age>=18):\n",
        "  print(\"You are an adult\")\n",
        "elif(age<18):\n",
        "  print(\"You are a child\")  \n",
        "\n",
        "we can combine this condition with logical operator when we need to satisfy more  than one condition.\n"
      ],
      "metadata": {
        "id": "MlSd1xXvUb90"
      }
    },
    {
      "cell_type": "markdown",
      "source": [
        "Q12. How does the elif statement work?\n",
        "\n",
        "-> The elif statement is useful when you need to check multiple conditions. It can be used between an if and an else statement. If the initial if condition is False, Python will check the elif condition. If the elif condition is also False, it will move on to the next elif or the final else block.\n",
        "\n",
        "ex:-\n",
        "a = 33\n",
        "b = 33\n",
        "if b > a:\n",
        "print(\"b is greater than a\")\n",
        "elif a == b:\n",
        "print(\"a and b are equal\")\n",
        "else:\n",
        "print(\"a is greater than b\")\n"
      ],
      "metadata": {
        "id": "R9PFHK-mWJIl"
      }
    },
    {
      "cell_type": "markdown",
      "source": [
        "Q13.  What is the difference between for and while loops?\n",
        "\n",
        "-> Both while loops and for loops are control flow structures in programming that allow you to repeatedly execute a block of code. However, they differ in their syntax and use cases.\n",
        "\n",
        "A for loop is used when you know in advance how many times you want to execute the block of code. It iterates over a sequence (e.g., a list, tuple, string, or range) and executes the block of code for each item in the sequence. The loop variable takes the value of each item in the sequence during each iteration.\n",
        "\n",
        "Example:\n",
        "\n",
        "for i in range(5):\n",
        "print(i)\n",
        "\n",
        "A while loop is used when you don’t know in advance how many times you want to execute the block of code. It continues to execute as long as the specified condition is true. It’s important to make sure that the condition eventually becomes false; otherwise, the loop will run indefinitely, resulting in an infinite loop.\n",
        "\n",
        "Example:\n",
        "\n",
        "count = 0\n",
        "while count < 5:\n",
        "print(count)\n",
        "count += 1"
      ],
      "metadata": {
        "id": "sikE2T7tYxmv"
      }
    },
    {
      "cell_type": "markdown",
      "source": [
        "Q14. Describe a scenario where a while loop is more suitable than a for loop.\n",
        "\n",
        "-> Suppose i have program a rock paper sessor game, this game continue untill the maximum point of user is 5 or the user enter the text exit. In this condition we actull don't know how manny time we need to run the game so we have to use while loop with a conditon i.e point<=5 and input !=\"exit\"."
      ],
      "metadata": {
        "id": "ZRnMTmHwZ047"
      }
    },
    {
      "cell_type": "markdown",
      "source": [
        "#Practical Questions"
      ],
      "metadata": {
        "id": "gG9NFoH_bGPq"
      }
    },
    {
      "cell_type": "code",
      "source": [
        "#Q1. Write a Python program to print \"Hello, World!\n",
        "\n",
        "print(\"Hello,world!\")"
      ],
      "metadata": {
        "colab": {
          "base_uri": "https://localhost:8080/"
        },
        "id": "2vVafxjBbKt2",
        "outputId": "fe0841b8-9002-4f43-90c7-9e33eea1787b"
      },
      "execution_count": 2,
      "outputs": [
        {
          "output_type": "stream",
          "name": "stdout",
          "text": [
            "Hello,world!\n"
          ]
        }
      ]
    },
    {
      "cell_type": "code",
      "source": [
        "#Q2. Write a Python program that displays your name and age.\n",
        "\n",
        "name =input(\"Enter your name:\")\n",
        "age =int(input(\"Enter your age:\"))\n",
        "print(f\"your name:{name}\\nyour age:{age}\")"
      ],
      "metadata": {
        "colab": {
          "base_uri": "https://localhost:8080/"
        },
        "id": "GkNnIX5obL1s",
        "outputId": "3fd94db1-c5eb-4c8b-d476-53b9efb17be0"
      },
      "execution_count": 3,
      "outputs": [
        {
          "output_type": "stream",
          "name": "stdout",
          "text": [
            "Enter your name:Tanay Tiwari\n",
            "Enter your age:21\n",
            "your name:Tanay Tiwari\n",
            "your age:21\n"
          ]
        }
      ]
    },
    {
      "cell_type": "code",
      "source": [
        "#Q3. Write code to print all the pre-defined keywords in Python using the keyword library\n",
        "\n",
        "import keyword\n",
        "\n",
        "for key in keyword.kwlist:\n",
        "  print(key)"
      ],
      "metadata": {
        "colab": {
          "base_uri": "https://localhost:8080/"
        },
        "id": "L3zzYXRDVBnI",
        "outputId": "a222b03a-1085-47f4-bcf3-5f4ec966a109"
      },
      "execution_count": 4,
      "outputs": [
        {
          "output_type": "stream",
          "name": "stdout",
          "text": [
            "False\n",
            "None\n",
            "True\n",
            "and\n",
            "as\n",
            "assert\n",
            "async\n",
            "await\n",
            "break\n",
            "class\n",
            "continue\n",
            "def\n",
            "del\n",
            "elif\n",
            "else\n",
            "except\n",
            "finally\n",
            "for\n",
            "from\n",
            "global\n",
            "if\n",
            "import\n",
            "in\n",
            "is\n",
            "lambda\n",
            "nonlocal\n",
            "not\n",
            "or\n",
            "pass\n",
            "raise\n",
            "return\n",
            "try\n",
            "while\n",
            "with\n",
            "yield\n"
          ]
        }
      ]
    },
    {
      "cell_type": "code",
      "source": [
        "#Q4. Write a program that checks if a given word is a Python keyword.\n",
        "\n",
        "import keyword\n",
        "\n",
        "key=input(\"Enter the word:\")\n",
        "if(key in keyword.kwlist):\n",
        "  print(f\"{key} is a python keyword\")\n",
        "else:\n",
        "  print(f\"{key} is a not a python keyword\")\n"
      ],
      "metadata": {
        "colab": {
          "base_uri": "https://localhost:8080/"
        },
        "id": "9VKRiQe-VBjq",
        "outputId": "0dcca2a6-156d-4e0a-d290-b56448a6503d"
      },
      "execution_count": 11,
      "outputs": [
        {
          "output_type": "stream",
          "name": "stdout",
          "text": [
            "Enter the word:and\n",
            "and is a python keyword\n"
          ]
        }
      ]
    },
    {
      "cell_type": "code",
      "source": [
        "#Q5.  Create a list and tuple in Python, and demonstrate how attempting to change an element works differently for each.\n",
        "\n",
        "lst=[1,2,3,4,5]\n",
        "tup=(1,2,3,4,5)\n",
        "\n",
        "lst[2]=8\n",
        "print(lst)\n",
        "\n",
        "tup[2]=8"
      ],
      "metadata": {
        "colab": {
          "base_uri": "https://localhost:8080/",
          "height": 193
        },
        "id": "0jwWkV71VBh9",
        "outputId": "2f72d52b-bf13-42e0-8442-7c2912a3a062"
      },
      "execution_count": 12,
      "outputs": [
        {
          "output_type": "stream",
          "name": "stdout",
          "text": [
            "[1, 2, 8, 4, 5]\n"
          ]
        },
        {
          "output_type": "error",
          "ename": "TypeError",
          "evalue": "'tuple' object does not support item assignment",
          "traceback": [
            "\u001b[0;31m---------------------------------------------------------------------------\u001b[0m",
            "\u001b[0;31mTypeError\u001b[0m                                 Traceback (most recent call last)",
            "\u001b[0;32m<ipython-input-12-b9a3128ef7f3>\u001b[0m in \u001b[0;36m<cell line: 0>\u001b[0;34m()\u001b[0m\n\u001b[1;32m      7\u001b[0m \u001b[0mprint\u001b[0m\u001b[0;34m(\u001b[0m\u001b[0mlst\u001b[0m\u001b[0;34m)\u001b[0m\u001b[0;34m\u001b[0m\u001b[0;34m\u001b[0m\u001b[0m\n\u001b[1;32m      8\u001b[0m \u001b[0;34m\u001b[0m\u001b[0m\n\u001b[0;32m----> 9\u001b[0;31m \u001b[0mtup\u001b[0m\u001b[0;34m[\u001b[0m\u001b[0;36m2\u001b[0m\u001b[0;34m]\u001b[0m\u001b[0;34m=\u001b[0m\u001b[0;36m8\u001b[0m\u001b[0;34m\u001b[0m\u001b[0;34m\u001b[0m\u001b[0m\n\u001b[0m",
            "\u001b[0;31mTypeError\u001b[0m: 'tuple' object does not support item assignment"
          ]
        }
      ]
    },
    {
      "cell_type": "code",
      "source": [
        "#Q6. Write a function to demonstrate the behavior of mutable and immutable arguments.\n",
        "\n",
        "def mode(x,my_lis):\n",
        "  x=x+5\n",
        "  my_lis.append(99)\n",
        "  print(x)\n",
        "  print(my_lis)\n",
        "\n",
        "x=5\n",
        "lst=[1,2,3,4,5]\n",
        "print(\"Inital value\")\n",
        "print(x)\n",
        "print(lst)\n",
        "\n",
        "mode(x,lst)\n",
        "print(\"after mutation\")\n",
        "\n",
        "print(x)\n",
        "print(lst)\n",
        "\n",
        "# intenger are immutable\n",
        "# list are immutable\n",
        "\n",
        "\n",
        "\n"
      ],
      "metadata": {
        "colab": {
          "base_uri": "https://localhost:8080/"
        },
        "id": "6UnY1VkRVBfv",
        "outputId": "49304a54-4315-4a78-b765-b0dce6d1ec97"
      },
      "execution_count": 18,
      "outputs": [
        {
          "output_type": "stream",
          "name": "stdout",
          "text": [
            "Inital value\n",
            "5\n",
            "[1, 2, 3, 4, 5]\n",
            "10\n",
            "[1, 2, 3, 4, 5, 99]\n",
            "after mutation\n",
            "5\n",
            "[1, 2, 3, 4, 5, 99]\n"
          ]
        }
      ]
    },
    {
      "cell_type": "code",
      "source": [
        "#Q7. Write a program that performs basic arithmetic operations on two user-input numbers.\n",
        "\n",
        "a=int(input(\"Enter the number:\"))\n",
        "b=int(input(\"Enter the number:\"))\n",
        "\n",
        "print(\"a+b=\",a+b)\n",
        "print(\"a-b=\",a-b)\n",
        "print(\"a*b=\",a*b)\n",
        "print(\"a/b=\",a/b)\n",
        "print(\"a%b=\",a%b)\n"
      ],
      "metadata": {
        "colab": {
          "base_uri": "https://localhost:8080/"
        },
        "id": "6fnfnJciVBdz",
        "outputId": "e8494aa6-eec0-47ad-c90d-6ac209f7dba0"
      },
      "execution_count": 19,
      "outputs": [
        {
          "output_type": "stream",
          "name": "stdout",
          "text": [
            "Enter the number:10\n",
            "Enter the number:20\n",
            "a+b= 30\n",
            "a-b= -10\n",
            "a*b= 200\n",
            "a/b= 0.5\n",
            "a%b= 10\n"
          ]
        }
      ]
    },
    {
      "cell_type": "code",
      "source": [
        "#Q8. Write a program to demonstrate the use of logical operators.\n",
        "\n",
        "# Logical Operators Demo\n",
        "\n",
        "a = True\n",
        "b = False\n",
        "\n",
        "print(\"a =\", a)\n",
        "print(\"b =\", b)\n",
        "\n",
        "# AND operator\n",
        "print(\"a and b =\", a and b)   # False (both must be True)\n",
        "\n",
        "# OR operator\n",
        "print(\"a or b =\", a or b)       # True (at least one True)\n",
        "\n",
        "# NOT operator\n",
        "print(\"not a =\", not a)         # False (negates True)\n",
        "print(\"not b =\", not b)         # True (negates False)\n",
        "\n",
        "# Practical Example\n",
        "x = 10\n",
        "y = 5\n",
        "print(\"Practical Example:\")\n",
        "print(\"x > 5 and y < 10 =\", x > 5 and y < 10)   # True\n",
        "print(\"x < 5 or y < 10 =\", x < 5 or y < 10)     # True\n",
        "print(\"not (x == 10) =\", not (x == 10))         # False\n"
      ],
      "metadata": {
        "colab": {
          "base_uri": "https://localhost:8080/"
        },
        "id": "h9GGBSLwVBbs",
        "outputId": "1dc53ada-20fa-4432-9fce-a86d2830f686"
      },
      "execution_count": 21,
      "outputs": [
        {
          "output_type": "stream",
          "name": "stdout",
          "text": [
            "a = True\n",
            "b = False\n",
            "a and b = False\n",
            "a or b = True\n",
            "not a = False\n",
            "not b = True\n",
            "Practical Example:\n",
            "x > 5 and y < 10 = True\n",
            "x < 5 or y < 10 = True\n",
            "not (x == 10) = False\n"
          ]
        }
      ]
    },
    {
      "cell_type": "code",
      "source": [
        "#Q9. Write a Python program to convert user input from string to integer, float, and boolean types.\n",
        "\n",
        "a =input(\"Enter the number:\")\n",
        "\n",
        "print(\"Intial value:\",a)\n",
        "print(str(a))\n",
        "print(int(a))\n",
        "print(float(a))\n",
        "print(bool(a))\n",
        "\n"
      ],
      "metadata": {
        "colab": {
          "base_uri": "https://localhost:8080/"
        },
        "id": "2MqjBTcwVBZp",
        "outputId": "ce8b171f-b884-41a4-b360-6c38a4157806"
      },
      "execution_count": 27,
      "outputs": [
        {
          "output_type": "stream",
          "name": "stdout",
          "text": [
            "Enter the number:5\n",
            "Intial value: 5\n",
            "5\n",
            "5\n",
            "5.0\n",
            "True\n"
          ]
        }
      ]
    },
    {
      "cell_type": "code",
      "source": [
        "#Q10. Write code to demonstrate type casting with list elements.\n",
        "\n",
        "lst=[1,2,3,4,5]\n",
        "\n",
        "for i in range(len(lst)):\n",
        "  lst[i] = float(i)\n",
        "\n",
        "print(lst)"
      ],
      "metadata": {
        "colab": {
          "base_uri": "https://localhost:8080/"
        },
        "id": "ZGj-S9ljVBXW",
        "outputId": "f4315de6-f8ce-4e9b-95bc-19d678b4bfb9"
      },
      "execution_count": 33,
      "outputs": [
        {
          "output_type": "stream",
          "name": "stdout",
          "text": [
            "[0.0, 1.0, 2.0, 3.0, 4.0]\n"
          ]
        }
      ]
    },
    {
      "cell_type": "code",
      "source": [
        "#Q11. Write a program that checks if a number is positive, negative, or zero.\n",
        "\n",
        "a =int(input(\"Enter the number:\"))\n",
        "\n",
        "if(a == 0):\n",
        "  print(\"The number is zero\")\n",
        "elif(a<0):\n",
        "  print(\"The number is a negative\")\n",
        "else:\n",
        "  print(\"The number is positive\")"
      ],
      "metadata": {
        "colab": {
          "base_uri": "https://localhost:8080/"
        },
        "id": "MOVbAsCCVBRh",
        "outputId": "7137a802-a170-4b04-a0f5-53907b560df5"
      },
      "execution_count": 34,
      "outputs": [
        {
          "output_type": "stream",
          "name": "stdout",
          "text": [
            "Enter the number:-10\n",
            "The number is a negative\n"
          ]
        }
      ]
    },
    {
      "cell_type": "code",
      "source": [
        "#Q12. Write a for loop to print numbers from 1 to 10.\n",
        "for i in range(1,11):\n",
        "  print(i)"
      ],
      "metadata": {
        "colab": {
          "base_uri": "https://localhost:8080/"
        },
        "id": "QkId-XlrVA2s",
        "outputId": "b43fbcd1-6e76-4ee9-8dbd-504b800288b5"
      },
      "execution_count": 36,
      "outputs": [
        {
          "output_type": "stream",
          "name": "stdout",
          "text": [
            "1\n",
            "2\n",
            "3\n",
            "4\n",
            "5\n",
            "6\n",
            "7\n",
            "8\n",
            "9\n",
            "10\n"
          ]
        }
      ]
    },
    {
      "cell_type": "code",
      "source": [
        "#Q13. Write a Python program to find the sum of all even numbers between 1 and 50\n",
        "\n",
        "sum=0\n",
        "for i in range(1,51):\n",
        "  if(i%2 == 0):\n",
        "    sum=sum+i\n",
        "print(sum)\n"
      ],
      "metadata": {
        "colab": {
          "base_uri": "https://localhost:8080/"
        },
        "id": "n6qjkYQpi9JH",
        "outputId": "d13ce11a-3f5d-4ea9-a3a1-9fdef92c1486"
      },
      "execution_count": 37,
      "outputs": [
        {
          "output_type": "stream",
          "name": "stdout",
          "text": [
            "650\n"
          ]
        }
      ]
    },
    {
      "cell_type": "code",
      "source": [
        "#Q14. Write a program to reverse a string using a while loop.\n",
        "a=input(\"Enter the string:\")\n",
        "b=\"\"\n",
        "\n",
        "i=len(a)-1\n",
        "\n",
        "while i>=0:\n",
        "  b += a[i]\n",
        "  i=i-1\n",
        "\n",
        "print(\"intial string= \",a)\n",
        "print(\"reversed string= \",b)"
      ],
      "metadata": {
        "colab": {
          "base_uri": "https://localhost:8080/"
        },
        "id": "Wgu7i8O4i9Ft",
        "outputId": "28ba9fd3-0bec-4648-8843-4797b147e313"
      },
      "execution_count": 42,
      "outputs": [
        {
          "output_type": "stream",
          "name": "stdout",
          "text": [
            "Enter the string:hello\n",
            "intial string=  hello\n",
            "reversed string=  olleh\n"
          ]
        }
      ]
    },
    {
      "cell_type": "code",
      "source": [
        "#Q15. Write a Python program to calculate the factorial of a number provided by the user using a while loop\n",
        "\n",
        "a=int(input(\"Enter the number:\"))\n",
        "fact=1\n",
        "while(a>1):\n",
        "  fact=fact*a\n",
        "  a=a-1\n",
        "print(fact)\n",
        "\n",
        "\n"
      ],
      "metadata": {
        "colab": {
          "base_uri": "https://localhost:8080/"
        },
        "id": "sVn1qxUdi9DU",
        "outputId": "eee21efa-7854-4c72-efad-064f7df92af2"
      },
      "execution_count": 43,
      "outputs": [
        {
          "output_type": "stream",
          "name": "stdout",
          "text": [
            "Enter the number:5\n",
            "120\n"
          ]
        }
      ]
    },
    {
      "cell_type": "code",
      "source": [],
      "metadata": {
        "id": "_gg5SOHai9BH"
      },
      "execution_count": null,
      "outputs": []
    },
    {
      "cell_type": "code",
      "source": [],
      "metadata": {
        "id": "pkqtdOlSi81E"
      },
      "execution_count": null,
      "outputs": []
    },
    {
      "cell_type": "code",
      "source": [],
      "metadata": {
        "id": "lDke1CwJi-6J"
      },
      "execution_count": null,
      "outputs": []
    },
    {
      "cell_type": "code",
      "source": [],
      "metadata": {
        "id": "xzuFwd-ni-2r"
      },
      "execution_count": null,
      "outputs": []
    }
  ]
}