{
  "nbformat": 4,
  "nbformat_minor": 0,
  "metadata": {
    "colab": {
      "provenance": []
    },
    "kernelspec": {
      "name": "python3",
      "display_name": "Python 3"
    },
    "language_info": {
      "name": "python"
    }
  },
  "cells": [
    {
      "cell_type": "markdown",
      "source": [
        "#Python - Data Structure"
      ],
      "metadata": {
        "id": "tVwXjZD6cDvu"
      }
    },
    {
      "cell_type": "markdown",
      "source": [
        "Q1. What are data structures, and why are they important?\n",
        "\n",
        "-> Data structures in Python are specialized formats or containers used to store and organize data efficiently.\n",
        "They are important because provide various ways to store, access, and manipulate data according to specific needs.\n",
        "ex:- list,sets,touple,dictionaries,array."
      ],
      "metadata": {
        "id": "Bp4_qvH8cHKW"
      }
    },
    {
      "cell_type": "markdown",
      "source": [
        "Q2. Explain the difference between mutable and\n",
        "     immutable data types with examples.\n",
        "\n",
        "-> Mutable datatypes are which allow us to change there content after there creation. ex- lists allow us to change it conatin after creation.\n",
        "l=[1,2,3,4]\n",
        "l[0]=9\n",
        "print(l)\n",
        "[9,2,3,4]\n",
        "\n",
        "here we can see that we can make changes in list, So list are mutable.\n",
        "\n",
        "Immutable datatypes are opposite to mutable, they do not allow to make changes in them after there creation. ex:- tuples don't allow to change them after there creation.\n",
        "l=(1,2,3,4)\n",
        "l[0]=9\n",
        "TypeError: 'tuple' object does not support item assignment\n",
        "\n",
        "here we can see that touple don't allow us to make changes, so tuples are immutable."
      ],
      "metadata": {
        "id": "L55bf66Hdcse"
      }
    },
    {
      "cell_type": "markdown",
      "source": [
        "Q3.  What are the main differences between lists and\n",
        "     tuples in Python?\n",
        "\n",
        "->  The main difference between lists and tuples is that list are mutable and tuples are immutable. list are us to make changes while tuples don't and list are enclosed in [] while tuples are enclosed in( ).\n",
        "list=[1,2,3,4]\n",
        "tuple=(1,2,3,4)      "
      ],
      "metadata": {
        "id": "m6M4dwS3f3Z9"
      }
    },
    {
      "cell_type": "markdown",
      "source": [
        "Q4. Describe how dictionaries store data.\n",
        "\n",
        "-> Dictionaries store data inform of key-value pairs that allow you to store and retrieve data based on unique key.\n",
        "dict={1:'hello',2:'hi',3:'ola'}\n",
        "here 1,2,3 are keys and hello,hi,ola are value.The keys must be immutable, such as strings or numbers."
      ],
      "metadata": {
        "id": "z9Xfv2uhnq51"
      }
    },
    {
      "cell_type": "markdown",
      "source": [
        "Q5. Why might you use a set instead of a list in Python?\n",
        "\n",
        "-> Sets are unordered collections of unique elements. They are useful when you need to work with distinct items and perform set operations like union, intersection, and difference.\n",
        "\n",
        "Think of a set as your shopping list. You want to buy specific items at the grocery store. Your shopping list contains unique items, and you can add or remove items as needed. You don't want duplicates on your list,and you can quickly check whether an item is on your list or not. If you decide not to buy an item, you remove\n",
        "it from the list.\n"
      ],
      "metadata": {
        "id": "7CawSXf0u1xU"
      }
    },
    {
      "cell_type": "markdown",
      "source": [
        "Q6. What is a string in Python, and how is it different from a list?\n",
        "\n",
        "-> string are the sequence of character enclosed in \" \" or ' ', while list are sequnce of item enclosed in [ ] and also string are immutable while list are mutable.\n",
        "\n",
        "ex:- str=\"hello world\"\n",
        "lst=['h','e','l','l','o']"
      ],
      "metadata": {
        "id": "NKx8KiMBvoX8"
      }
    },
    {
      "cell_type": "markdown",
      "source": [
        "Q7. How do tuples ensure data integrity in Python?\n",
        "\n",
        "-> Tuples are immutable to ensure that their contents remain constant throughout their lifecycle, guaranteeing data integrity and reliability."
      ],
      "metadata": {
        "id": "q5W2jcMKw8-E"
      }
    },
    {
      "cell_type": "markdown",
      "source": [
        "Q8. What is a hash table, and how does it relate to dictionaries in Python?\n",
        "\n",
        "-> A hash table is a data structure that stores key-value pairs and uses a hashing function to compute an index (a hash) into an array of buckets or slots, from which the desired value can be found.\n",
        "\n",
        "The keys of the dictionary are hashable i.e. the are generated by hashing function which generates unique result for each unique value supplied to the hash function.\n",
        "\n",
        "When you use a dictionary like my_dict[\"name\"] = \"Alice\", Python:Hashes the key \"name\" using a built-in hash function.Uses that hash to find a position in an internal array.Stores the key-value pair at that position (handling collisions if needed).\n"
      ],
      "metadata": {
        "id": "LUd9FBLFyQKD"
      }
    },
    {
      "cell_type": "markdown",
      "source": [
        "Q9. Can lists contain different data types in Python?\n",
        "\n",
        "-> Yes list can contain different data types in pyhton.ex- lst=[1,[2,3],(3,4),{1,2,3,4},{1:'hi',2:'hello'},0.6,'hi'], here we can see list contain different data types."
      ],
      "metadata": {
        "id": "i0cM9zvu1sek"
      }
    },
    {
      "cell_type": "markdown",
      "source": [
        "Q10. Explain why strings are immutable in Python?\n",
        "\n",
        "-> Immutability ensures one reference does not change the value for others pointing to the same string. Security: Strings are used for sensitive data like usernames and passwords. Immutability prevents attackers from altering the values."
      ],
      "metadata": {
        "id": "bH35u3tb3K_D"
      }
    },
    {
      "cell_type": "markdown",
      "source": [
        "Q11. What advantages do dictionaries offer over lists for certain tasks?\n",
        "\n",
        "->\n",
        "\n",
        "1.   With dictionaries, you can access values directly by key — super fast, no matter how big the dictionary is.\n",
        "2.   Dictionaries make data self-descriptive.\n",
        "3.   No Need to Remember Index Positions just use key.\n",
        "\n",
        "\n",
        "\n",
        "\n"
      ],
      "metadata": {
        "id": "k6j2fWp84Cdr"
      }
    },
    {
      "cell_type": "markdown",
      "source": [
        "Q12.  Describe a scenario where using a tuple would be preferable over a list.\n",
        "\n",
        "-> Coordinates of a point in 2D space.\n",
        "\n",
        "Why a tuple?\n",
        "\n",
        "You don’t want the coordinates to change accidentally.\n",
        "\n",
        "You know the number and type of elements is fixed (always x and y).\n",
        "\n",
        "You might use it as a key in a dictionary (tuples are hashable, lists aren’t)."
      ],
      "metadata": {
        "id": "mKbEzWtc5_uM"
      }
    },
    {
      "cell_type": "markdown",
      "source": [
        "Q13. How do sets handle duplicate values in Python?\n",
        "\n",
        "-> sets don't store duplicate value, if duplicate value is passed then it will consider it has a single value and will not store the re-enter value."
      ],
      "metadata": {
        "id": "LcQ9RZXE7SXs"
      }
    },
    {
      "cell_type": "markdown",
      "source": [
        "Q14. How does the “in” keyword work differently for lists and dictionaries?\n",
        "\n",
        "-> When we use \"in\" in list then it will search for the item present in the list.\n",
        "\n",
        "l=[1,2,3]\n",
        "\n",
        "1 in l # return True\n",
        "\n",
        "while \"in\" in dictionaries will search for key present in dictionaries.\n",
        "\n",
        "dic ={1:'hello',2:'hi'}\n",
        "\n",
        "3 in dic # return False\n"
      ],
      "metadata": {
        "id": "O0LQxG3u8JEs"
      }
    },
    {
      "cell_type": "markdown",
      "source": [
        "Q15. Can you modify the elements of a tuple? Explain why or why not.\n",
        "\n",
        "-> No!, we can't modify the element of tuples because the tuples are immmutable mean they will not allow to make changes in them.\n",
        "\n",
        "if we want to make changes we have to make new tuple, This is the only way."
      ],
      "metadata": {
        "id": "paKT634m9vg7"
      }
    },
    {
      "cell_type": "markdown",
      "source": [
        "Q16. What is a nested dictionary, and give an example of its use case?\n",
        "\n",
        "-> Nested dictionary mean using a dictionary inside a dictionary as a value.\n",
        "\n",
        "use case is Student Records (Multiple Fields per Student)\n",
        "\n",
        "students = {\n",
        "    \"101\": {\"name\": \"Alice\", \"marks\": {\"math\": 90, \"science\": 85}},\n",
        "    \"102\": {\"name\": \"Bob\", \"marks\": {\"math\": 78, \"science\": 88}}\n",
        "}\n",
        "\n"
      ],
      "metadata": {
        "id": "Ft7MVobF-gUE"
      }
    },
    {
      "cell_type": "markdown",
      "source": [
        "Q17. Describe the time complexity of accessing elements in a dictionary?\n",
        "\n",
        "-> O(1), beacuse we will use index of hash table to find the position of the element which will every time require same time to find the element."
      ],
      "metadata": {
        "id": "Tm8eLZQFAfzj"
      }
    },
    {
      "cell_type": "markdown",
      "source": [
        "Q18.In what situations are lists preferred over dictionaries?\n",
        "\n",
        "-> List are preferred i situatuion were we need to store duplicate data and where we don't need to have descriptive of data. where the order of data is important.\n",
        "\n"
      ],
      "metadata": {
        "id": "wlfki0UJAcqD"
      }
    },
    {
      "cell_type": "markdown",
      "source": [
        "Q19. Why are dictionaries considered unordered, and how does that affect data retrieval?\n",
        "\n",
        "-> This was because Python dictionaries relied on a hash table to store keys and values, and the hash function doesn’t guarantee order — it’s designed to optimize fast lookups, inserts, and deletions.\n",
        "\n",
        "This make data retriveal fast i.e O(1)."
      ],
      "metadata": {
        "id": "XYHyaOCnCbg7"
      }
    },
    {
      "cell_type": "markdown",
      "source": [
        "Q20. Explain the difference between a list and a dictionary in terms of data retrieval.\n",
        "\n",
        "-> With lists, you retrieve items based on index, which can be slow (O(n)) if you don’t know the index in advance.\n",
        "\n",
        "With dictionaries, you retrieve items based on key, which is constant time (O(1)) on average."
      ],
      "metadata": {
        "id": "Kuj0Mm1xE-nj"
      }
    },
    {
      "cell_type": "markdown",
      "source": [
        "##Practical Questions"
      ],
      "metadata": {
        "id": "t3bxbCEEP6VR"
      }
    },
    {
      "cell_type": "code",
      "source": [
        "#Q1. Write a code to create a string with your name and print it.\n",
        "\n",
        "name=input(\"Enter your name:\")\n",
        "print(name)"
      ],
      "metadata": {
        "id": "RodhKZFc3B-V",
        "colab": {
          "base_uri": "https://localhost:8080/"
        },
        "outputId": "1613e010-2700-4504-d77c-95d032cbd07a"
      },
      "execution_count": 2,
      "outputs": [
        {
          "output_type": "stream",
          "name": "stdout",
          "text": [
            "Enter your name:Tanay Tiwari\n",
            "Tanay Tiwari\n"
          ]
        }
      ]
    },
    {
      "cell_type": "code",
      "source": [
        "#Q2. Write a code to find the length of the string \"Hello World\".\n",
        "\n",
        "len(\"Hello World\")"
      ],
      "metadata": {
        "colab": {
          "base_uri": "https://localhost:8080/"
        },
        "id": "yqDIhdqWQTCP",
        "outputId": "d47b33d7-9eb5-4e4f-c9e1-34396d86d60b"
      },
      "execution_count": 3,
      "outputs": [
        {
          "output_type": "execute_result",
          "data": {
            "text/plain": [
              "11"
            ]
          },
          "metadata": {},
          "execution_count": 3
        }
      ]
    },
    {
      "cell_type": "code",
      "source": [
        "#Q3. Write a code to slice the first 3 characters from the string \"Python Programming\".\n",
        "\n",
        "str=\"Python Programming\"\n",
        "print(str[:3])"
      ],
      "metadata": {
        "colab": {
          "base_uri": "https://localhost:8080/"
        },
        "id": "z3vn2z7jQn0-",
        "outputId": "7a161111-dea7-4306-a922-a5c1e82c550b"
      },
      "execution_count": 4,
      "outputs": [
        {
          "output_type": "stream",
          "name": "stdout",
          "text": [
            "Pyt\n"
          ]
        }
      ]
    },
    {
      "cell_type": "code",
      "source": [
        "#Q4. Write a code to convert the string \"hello\" to uppercase.\n",
        "\n",
        "str=\"hello\"\n",
        "str.upper()"
      ],
      "metadata": {
        "colab": {
          "base_uri": "https://localhost:8080/",
          "height": 36
        },
        "id": "7z72JR_GRCh3",
        "outputId": "47fa87c0-673a-4f66-cd07-1908475c55cc"
      },
      "execution_count": 5,
      "outputs": [
        {
          "output_type": "execute_result",
          "data": {
            "text/plain": [
              "'HELLO'"
            ],
            "application/vnd.google.colaboratory.intrinsic+json": {
              "type": "string"
            }
          },
          "metadata": {},
          "execution_count": 5
        }
      ]
    },
    {
      "cell_type": "code",
      "source": [
        "#Q5.  Write a code to replace the word \"apple\" with \"orange\" in the string \"I like apple\"\n",
        "\n",
        "str=\"I like apple\"\n",
        "update=str.replace(\"apple\",\"orange\")\n",
        "print(update)"
      ],
      "metadata": {
        "colab": {
          "base_uri": "https://localhost:8080/"
        },
        "id": "DUan4j1ARQC-",
        "outputId": "7a9ae617-8c60-4515-ca70-ace40b907792"
      },
      "execution_count": 10,
      "outputs": [
        {
          "output_type": "stream",
          "name": "stdout",
          "text": [
            "I like orange\n"
          ]
        }
      ]
    },
    {
      "cell_type": "code",
      "source": [
        "#Q6. Write a code to create a list with numbers 1 to 5 and print it.\n",
        "\n",
        "lst=[]\n",
        "for i in range(1,6):\n",
        "  lst.append(i)\n",
        "print(lst)"
      ],
      "metadata": {
        "colab": {
          "base_uri": "https://localhost:8080/"
        },
        "id": "OLdTzmx1Sbyr",
        "outputId": "88189e94-73dd-474b-cb8c-145772c50581"
      },
      "execution_count": 11,
      "outputs": [
        {
          "output_type": "stream",
          "name": "stdout",
          "text": [
            "[1, 2, 3, 4, 5]\n"
          ]
        }
      ]
    },
    {
      "cell_type": "code",
      "source": [
        "#Q7. Write a code to append the number 10 to the list [1, 2, 3, 4].\n",
        "\n",
        "lst=[1,2,3,4]\n",
        "lst.append(10)\n",
        "print(lst)"
      ],
      "metadata": {
        "colab": {
          "base_uri": "https://localhost:8080/"
        },
        "id": "5a5qDG1YTPq2",
        "outputId": "64088782-8b7f-4734-8f50-46455a0a3282"
      },
      "execution_count": 12,
      "outputs": [
        {
          "output_type": "stream",
          "name": "stdout",
          "text": [
            "[1, 2, 3, 4, 10]\n"
          ]
        }
      ]
    },
    {
      "cell_type": "code",
      "source": [
        "#Q8. Write a code to remove the number 3 from the list [1, 2, 3, 4, 5].\n",
        "\n",
        "lst=[1,2,3,4,5]\n",
        "lst.remove(3)\n",
        "print(lst)"
      ],
      "metadata": {
        "colab": {
          "base_uri": "https://localhost:8080/"
        },
        "id": "QfwAgQYQThvV",
        "outputId": "52a60f21-4100-4ed5-ec5e-46b5b239715b"
      },
      "execution_count": 13,
      "outputs": [
        {
          "output_type": "stream",
          "name": "stdout",
          "text": [
            "[1, 2, 4, 5]\n"
          ]
        }
      ]
    },
    {
      "cell_type": "code",
      "source": [
        "#Q9. Write a code to access the second element in the list ['a', 'b', 'c', 'd'].\n",
        "\n",
        "lst=['a', 'b', 'c', 'd']\n",
        "lst[1]"
      ],
      "metadata": {
        "colab": {
          "base_uri": "https://localhost:8080/",
          "height": 36
        },
        "id": "HX53ZeJaXJ6G",
        "outputId": "62731445-d03f-45b0-8a1b-8c5c881233a0"
      },
      "execution_count": 15,
      "outputs": [
        {
          "output_type": "execute_result",
          "data": {
            "text/plain": [
              "'b'"
            ],
            "application/vnd.google.colaboratory.intrinsic+json": {
              "type": "string"
            }
          },
          "metadata": {},
          "execution_count": 15
        }
      ]
    },
    {
      "cell_type": "code",
      "source": [
        "#Q10. Write a code to reverse the list [10, 20, 30, 40, 50].\n",
        "\n",
        "lst=[10, 20, 30, 40, 50]\n",
        "lst=lst[::-1]\n",
        "print(lst)"
      ],
      "metadata": {
        "colab": {
          "base_uri": "https://localhost:8080/"
        },
        "id": "DVQlt3bJXcX9",
        "outputId": "82c20614-3ca1-4670-84da-f24a44675596"
      },
      "execution_count": 18,
      "outputs": [
        {
          "output_type": "stream",
          "name": "stdout",
          "text": [
            "[50, 40, 30, 20, 10]\n"
          ]
        }
      ]
    },
    {
      "cell_type": "code",
      "source": [
        "#Q11. Write a code to create a tuple with the elements 100, 200, 300 and print it.\n",
        "\n",
        "tup=(100,200,300)\n",
        "print(tup)"
      ],
      "metadata": {
        "colab": {
          "base_uri": "https://localhost:8080/"
        },
        "id": "ehK10K0TXqRR",
        "outputId": "2b78ac85-0038-47b4-faf0-8cd8d79da13a"
      },
      "execution_count": 19,
      "outputs": [
        {
          "output_type": "stream",
          "name": "stdout",
          "text": [
            "(100, 200, 300)\n"
          ]
        }
      ]
    },
    {
      "cell_type": "code",
      "source": [
        "#Q12.  Write a code to access the second-to-last element of the tuple ('red', 'green', 'blue', 'yellow').\n",
        "\n",
        "tup=('red', 'green', 'blue', 'yellow')\n",
        "print(tup[1:])"
      ],
      "metadata": {
        "colab": {
          "base_uri": "https://localhost:8080/"
        },
        "id": "hJwifyAlYBm5",
        "outputId": "c1b42e4f-86ff-4407-d14f-822370a2fadb"
      },
      "execution_count": 20,
      "outputs": [
        {
          "output_type": "stream",
          "name": "stdout",
          "text": [
            "('green', 'blue', 'yellow')\n"
          ]
        }
      ]
    },
    {
      "cell_type": "code",
      "source": [
        "#Q13. Write a code to find the minimum number in the tuple (10, 20, 5, 15).\n",
        "\n",
        "tup = (10, 20, 5, 15)\n",
        "min(tup)"
      ],
      "metadata": {
        "colab": {
          "base_uri": "https://localhost:8080/"
        },
        "id": "D27m_-VXYSaE",
        "outputId": "6a5f1d76-f53e-46bf-be5f-18539cc0ba90"
      },
      "execution_count": 22,
      "outputs": [
        {
          "output_type": "execute_result",
          "data": {
            "text/plain": [
              "5"
            ]
          },
          "metadata": {},
          "execution_count": 22
        }
      ]
    },
    {
      "cell_type": "code",
      "source": [
        "#Q14.  Write a code to find the index of the element \"cat\" in the tuple ('dog', 'cat', 'rabbit').\n",
        "\n",
        "tup= ('dog', 'cat', 'rabbit')\n",
        "tup.index('cat')"
      ],
      "metadata": {
        "colab": {
          "base_uri": "https://localhost:8080/"
        },
        "id": "q2u00xwHYcZh",
        "outputId": "44970a9c-3e95-416b-f87c-175aa53d40eb"
      },
      "execution_count": 23,
      "outputs": [
        {
          "output_type": "execute_result",
          "data": {
            "text/plain": [
              "1"
            ]
          },
          "metadata": {},
          "execution_count": 23
        }
      ]
    },
    {
      "cell_type": "code",
      "source": [
        "#Q15. Write a code to create a tuple containing three different fruits and check if \"kiwi\" is in it.\n",
        "\n",
        "tup=('apple','guava','pine')\n",
        "\n",
        "'kiwi' in tup"
      ],
      "metadata": {
        "colab": {
          "base_uri": "https://localhost:8080/"
        },
        "id": "yP22huwsY2jd",
        "outputId": "1a55738e-73dc-4b61-f86c-6492181ae3b9"
      },
      "execution_count": 24,
      "outputs": [
        {
          "output_type": "execute_result",
          "data": {
            "text/plain": [
              "False"
            ]
          },
          "metadata": {},
          "execution_count": 24
        }
      ]
    },
    {
      "cell_type": "code",
      "source": [
        "#Q16. Write a code to create a set with the elements 'a', 'b', 'c' and print it.\n",
        "\n",
        "s={'a','b','c'}\n",
        "print(s)"
      ],
      "metadata": {
        "colab": {
          "base_uri": "https://localhost:8080/"
        },
        "id": "bEtRzgxEZJ5k",
        "outputId": "d65af2d5-1c9b-4203-c412-13d44ad43ce2"
      },
      "execution_count": 25,
      "outputs": [
        {
          "output_type": "stream",
          "name": "stdout",
          "text": [
            "{'b', 'a', 'c'}\n"
          ]
        }
      ]
    },
    {
      "cell_type": "code",
      "source": [
        "#Q17. Write a code to clear all elements from the set {1, 2, 3, 4, 5}.\n",
        "\n",
        "s={1, 2, 3, 4, 5}\n",
        "s.clear()\n",
        "print(s)"
      ],
      "metadata": {
        "colab": {
          "base_uri": "https://localhost:8080/"
        },
        "id": "AmE2Yb2eZcqV",
        "outputId": "c9f37e2e-0e4f-44f7-d7ba-f0c997f3296a"
      },
      "execution_count": 26,
      "outputs": [
        {
          "output_type": "stream",
          "name": "stdout",
          "text": [
            "set()\n"
          ]
        }
      ]
    },
    {
      "cell_type": "code",
      "source": [
        "#Q18. Write a code to remove the element 4 from the set {1, 2, 3, 4}.\n",
        "\n",
        "s={1,2,3,4}\n",
        "s.remove(4)\n",
        "print(s)"
      ],
      "metadata": {
        "colab": {
          "base_uri": "https://localhost:8080/"
        },
        "id": "L7Cl5TD4ZkhZ",
        "outputId": "f0f3bc5e-2c16-4c47-83b6-3898b6e7e1dc"
      },
      "execution_count": 27,
      "outputs": [
        {
          "output_type": "stream",
          "name": "stdout",
          "text": [
            "{1, 2, 3}\n"
          ]
        }
      ]
    },
    {
      "cell_type": "code",
      "source": [
        "#Q19. Write a code to find the union of two sets {1, 2, 3} and {3, 4, 5}.\n",
        "\n",
        "a={1,2,3}\n",
        "b={3,4,5}\n",
        "print(a|b)"
      ],
      "metadata": {
        "colab": {
          "base_uri": "https://localhost:8080/"
        },
        "id": "k1f-nXXcZ8I9",
        "outputId": "7b20232c-11f6-4186-c444-fe3b2a1d62b1"
      },
      "execution_count": 28,
      "outputs": [
        {
          "output_type": "stream",
          "name": "stdout",
          "text": [
            "{1, 2, 3, 4, 5}\n"
          ]
        }
      ]
    },
    {
      "cell_type": "code",
      "source": [
        "#Q20. Write a code to find the intersection of two sets {1, 2, 3} and {2, 3, 4}.\n",
        "\n",
        "a={1,2,3}\n",
        "b={2,3,4}\n",
        "print(a&b)"
      ],
      "metadata": {
        "colab": {
          "base_uri": "https://localhost:8080/"
        },
        "id": "iYKvF-S9aI1N",
        "outputId": "94160be7-7d99-49f1-b3c2-6b5f1f620b40"
      },
      "execution_count": 29,
      "outputs": [
        {
          "output_type": "stream",
          "name": "stdout",
          "text": [
            "{2, 3}\n"
          ]
        }
      ]
    },
    {
      "cell_type": "code",
      "source": [
        "#Q21. Write a code to create a dictionary with the keys \"name\", \"age\", and \"city\", and print it.\n",
        "\n",
        "dic={'name':'Tanay','age':21,'city':'chandrapur'}\n",
        "print(dic)"
      ],
      "metadata": {
        "colab": {
          "base_uri": "https://localhost:8080/"
        },
        "id": "NF8ERNy4ahCp",
        "outputId": "bb1e673f-4abf-4ed3-e5f3-d94358d96efd"
      },
      "execution_count": 30,
      "outputs": [
        {
          "output_type": "stream",
          "name": "stdout",
          "text": [
            "{'name': 'Tanay', 'age': 21, 'city': 'chandrapur'}\n"
          ]
        }
      ]
    },
    {
      "cell_type": "code",
      "source": [
        "#Q22. Write a code to add a new key-value pair \"country\": \"USA\" to the dictionary {'name': 'John', 'age': 25}.\n",
        "\n",
        "dic2={'name': 'John', 'age': 25}\n",
        "dic2['country']='USA'\n",
        "print(dic2)"
      ],
      "metadata": {
        "colab": {
          "base_uri": "https://localhost:8080/"
        },
        "id": "d3UYoNDMa2LJ",
        "outputId": "fe3b466f-afcf-4079-e951-bbf7d4ec33cd"
      },
      "execution_count": 36,
      "outputs": [
        {
          "output_type": "stream",
          "name": "stdout",
          "text": [
            "{'name': 'John', 'age': 25, 'country': 'USA'}\n"
          ]
        }
      ]
    },
    {
      "cell_type": "code",
      "source": [
        "#Q23. Write a code to access the value associated with the key \"name\" in the dictionary {'name': 'Alice', 'age': 30}.\n",
        "\n",
        "dic3={'name': 'Alice', 'age': 30}\n",
        "dic3['name']"
      ],
      "metadata": {
        "colab": {
          "base_uri": "https://localhost:8080/",
          "height": 36
        },
        "id": "SwsZ1vuobNGx",
        "outputId": "677a7705-6c38-4127-c934-2e6e522110cd"
      },
      "execution_count": 37,
      "outputs": [
        {
          "output_type": "execute_result",
          "data": {
            "text/plain": [
              "'Alice'"
            ],
            "application/vnd.google.colaboratory.intrinsic+json": {
              "type": "string"
            }
          },
          "metadata": {},
          "execution_count": 37
        }
      ]
    },
    {
      "cell_type": "code",
      "source": [
        "#Q24. Write a code to remove the key \"age\" from the dictionary {'name': 'Bob', 'age': 22, 'city': 'New York'}.\n",
        "\n",
        "dic4= {'name': 'Bob', 'age': 22, 'city': 'New York'}\n",
        "dic4.pop('age')\n",
        "print(dic4)"
      ],
      "metadata": {
        "colab": {
          "base_uri": "https://localhost:8080/"
        },
        "id": "1URXX8wgbf9Q",
        "outputId": "1f702cca-d4c9-4a1d-d80b-5b6a28efa05f"
      },
      "execution_count": 39,
      "outputs": [
        {
          "output_type": "stream",
          "name": "stdout",
          "text": [
            "{'name': 'Bob', 'city': 'New York'}\n"
          ]
        }
      ]
    },
    {
      "cell_type": "code",
      "source": [
        "#Q25. Write a code to check if the key \"city\" exists in the dictionary {'name': 'Alice', 'city': 'Paris'}.\n",
        "\n",
        "dic5= {'name': 'Alice', 'city': 'Paris'}\n",
        "\n",
        "'city' in dic5"
      ],
      "metadata": {
        "colab": {
          "base_uri": "https://localhost:8080/"
        },
        "id": "9yDQgOBjcZxk",
        "outputId": "ac77c1bd-7e1b-4cae-cbb8-89e579b7a544"
      },
      "execution_count": 40,
      "outputs": [
        {
          "output_type": "execute_result",
          "data": {
            "text/plain": [
              "True"
            ]
          },
          "metadata": {},
          "execution_count": 40
        }
      ]
    },
    {
      "cell_type": "code",
      "source": [
        "#Q26.  Write a code to create a list, a tuple, and a dictionary, and print them all.\n",
        "\n",
        "lst=[1,2,3,4]\n",
        "tup=(1,2,3,4)\n",
        "dic6={'name': 'Bob', 'age': 22, 'city': 'New York'}\n",
        "\n",
        "print(lst)\n",
        "print(tup)\n",
        "print(dic)"
      ],
      "metadata": {
        "colab": {
          "base_uri": "https://localhost:8080/"
        },
        "id": "0n6obQKOcrpT",
        "outputId": "28af72ee-8a00-4d47-e970-4730f63b46e8"
      },
      "execution_count": 44,
      "outputs": [
        {
          "output_type": "stream",
          "name": "stdout",
          "text": [
            "[1, 2, 3, 4]\n",
            "(1, 2, 3, 4)\n",
            "{'name': 'Alice', 'age': 30}\n"
          ]
        }
      ]
    },
    {
      "cell_type": "code",
      "source": [
        "#Q27. Write a code to create a list of 5 random numbers between 1 and 100, sort it in ascending order, and print the result.(replaced).\n",
        "\n",
        "import random\n",
        "\n",
        "lst=[random.randint(1,100) for i in range(5)]\n",
        "update=sorted(lst)\n",
        "print(update)"
      ],
      "metadata": {
        "colab": {
          "base_uri": "https://localhost:8080/"
        },
        "id": "RaEdYyMzdkkp",
        "outputId": "962c5f93-bd56-453f-c513-809934c0e3d6"
      },
      "execution_count": 49,
      "outputs": [
        {
          "output_type": "stream",
          "name": "stdout",
          "text": [
            "[6, 17, 40, 54, 64]\n"
          ]
        }
      ]
    },
    {
      "cell_type": "code",
      "source": [
        "#Q28. Write a code to create a list with strings and print the element at the third index.\n",
        "\n",
        "lst=[\"i am waiting\"]\n",
        "print(lst[0][2])"
      ],
      "metadata": {
        "colab": {
          "base_uri": "https://localhost:8080/"
        },
        "id": "s742QijEecDg",
        "outputId": "ad93e432-4d07-49ba-9d51-a119e2e0caee"
      },
      "execution_count": 51,
      "outputs": [
        {
          "output_type": "stream",
          "name": "stdout",
          "text": [
            "a\n"
          ]
        }
      ]
    },
    {
      "cell_type": "code",
      "source": [
        "#Q29.  Write a code to combine two dictionaries into one and print the result.\n",
        "\n",
        "dic7={'name':'Tanay','age':21,'city':'chandrapur'}\n",
        "dic8={'Taluka':'Delhi'}\n",
        "dic7.update(dic8)\n",
        "print(dic7)"
      ],
      "metadata": {
        "colab": {
          "base_uri": "https://localhost:8080/"
        },
        "id": "HtQLAvp2gF4c",
        "outputId": "8a91aecd-9bee-44d2-89e7-0ebb908dcbea"
      },
      "execution_count": 54,
      "outputs": [
        {
          "output_type": "stream",
          "name": "stdout",
          "text": [
            "{'name': 'Tanay', 'age': 21, 'city': 'chandrapur', 'Taluka': 'Delhi'}\n"
          ]
        }
      ]
    },
    {
      "cell_type": "code",
      "source": [
        "#Q30. Write a code to convert a list of strings into a set.\n",
        "\n",
        "lst=['hi','bye','hello']\n",
        "set(lst)"
      ],
      "metadata": {
        "colab": {
          "base_uri": "https://localhost:8080/"
        },
        "id": "2WJ_ZsmtgzxF",
        "outputId": "e3a08ab1-eb1c-4b91-ba40-76874149f2b6"
      },
      "execution_count": 55,
      "outputs": [
        {
          "output_type": "execute_result",
          "data": {
            "text/plain": [
              "{'bye', 'hello', 'hi'}"
            ]
          },
          "metadata": {},
          "execution_count": 55
        }
      ]
    },
    {
      "cell_type": "code",
      "source": [],
      "metadata": {
        "id": "UsLRSnvPh9B4"
      },
      "execution_count": null,
      "outputs": []
    }
  ]
}