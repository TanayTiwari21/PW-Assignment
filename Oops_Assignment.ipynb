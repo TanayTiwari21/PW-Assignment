{
  "nbformat": 4,
  "nbformat_minor": 0,
  "metadata": {
    "colab": {
      "provenance": []
    },
    "kernelspec": {
      "name": "python3",
      "display_name": "Python 3"
    },
    "language_info": {
      "name": "python"
    }
  },
  "cells": [
    {
      "cell_type": "markdown",
      "source": [
        "#OOPS Assignment"
      ],
      "metadata": {
        "id": "rzCIB2nPfiFv"
      }
    },
    {
      "cell_type": "markdown",
      "source": [
        "Q1.  What is Object-Oriented Programming (OOP)?\n",
        "\n",
        "-> Object-oriented programming (OOP) is a programming paradigm that organizes software design around data, or objects, rather than functions and logic. It uses concepts like classes, objects, inheritance, encapsulation, abstraction, and polymorphism to model real-world entities and their interactions.\n"
      ],
      "metadata": {
        "id": "0Y3nHDkzfeOm"
      }
    },
    {
      "cell_type": "markdown",
      "source": [
        "Q2. What is a class in OOP?\n",
        "\n",
        "-> Blueprints for creating objects, defining their properties (data) and methods (functions)."
      ],
      "metadata": {
        "id": "cvHf3-tdgFLm"
      }
    },
    {
      "cell_type": "markdown",
      "source": [
        "Q3. What is an object in OOP?\n",
        "\n",
        "-> Instances of a class, representing individual entities with their own data and behavior."
      ],
      "metadata": {
        "id": "lw1W3ZlLgVI-"
      }
    },
    {
      "cell_type": "markdown",
      "source": [
        "Q4. What is the difference between abstraction and encapsulation?\n",
        "\n",
        "-> Abstraction is a design-level process that focuses on hiding complex implementation details and presenting only the necessary functionality to the user. It simplifies the user's perspective by providing a high-level view of the system, focusing on the \"what\" rather than the \"how\". For example, a car's steering wheel and pedals are abstract representations of the complex engine and driving mechanisms.\n",
        "\n",
        "Encapsulation is an implementation-level process that bundles data and methods that operate on that data within a single unit. It restricts direct access to the internal components, protecting the data and ensuring data integrity. For example, in a car, the internal components of the engine are encapsulated under the hood, hiding them from the user."
      ],
      "metadata": {
        "id": "-duldJOagYaW"
      }
    },
    {
      "cell_type": "markdown",
      "source": [
        "Q5. What are dunder methods in Python?\n",
        "\n",
        "-> Python Magic methods are the methods starting and ending with double underscores ‘__’. They are defined by built-in classes in Python and commonly used for operator overloading.\n",
        "\n",
        "They are also called Dunder methods, Dunder here means “Double Under (Underscores)”."
      ],
      "metadata": {
        "id": "AnUHY9gdgqvW"
      }
    },
    {
      "cell_type": "markdown",
      "source": [
        "Q6.  Explain the concept of inheritance in OOP.\n",
        "\n",
        "-> Inheritance in object-oriented programming (OOP) is a mechanism where a class (the \"child\" or \"derived\" class) inherits attributes and methods from another class (the \"parent\" or \"base\" class). This allows for code reusability, organization, and extensibility. Child classes can inherit from one or more parent classes, forming a hierarchy of classes."
      ],
      "metadata": {
        "id": "dtfrUU_chAVm"
      }
    },
    {
      "cell_type": "markdown",
      "source": [
        "Q7. What is polymorphism in OOP?\n",
        "\n",
        "-> Polymorphism in object-oriented programming (OOP) allows objects of different classes to be treated as objects of a common superclass. This means that one interface can be used to call different methods on different object types, enabling flexibility and reusability. It's one of the core principles of OOP, alongside encapsulation and inheritance."
      ],
      "metadata": {
        "id": "YnBtYSFfhVcu"
      }
    },
    {
      "cell_type": "markdown",
      "source": [
        "Q8. How is encapsulation achieved in Python?\n",
        "\n",
        "-> Encapsulation in Python is achieved through conventions using access modifiers, primarily single and double underscores, to manage the visibility of class members (attributes and methods). While Python does not enforce strict access control like some other languages, these conventions signal the intended scope and usage of class members.\n",
        "\n",
        "Public Members:\n",
        "Accessible from anywhere, both inside and outside the class. They do not have any special prefix.\n",
        "\n",
        "Protected Members:\n",
        "Intended for use within the class and its subclasses. They are prefixed with a single underscore _. While accessible from outside the class, the underscore serves as a convention indicating that they should be treated as internal.\n",
        "\n",
        "Private Members:\n",
        "Meant for use only within the class. They are prefixed with a double underscore __. Python applies name mangling to these members, making them harder to access directly from outside the class, but not impossible.\n",
        "\n",
        "Encapsulation is often implemented alongside getter and setter methods (also known as property methods in Python) to control access and modification of attributes, providing a controlled interface for interacting with the object's internal state."
      ],
      "metadata": {
        "id": "zWJbc0GJhtuW"
      }
    },
    {
      "cell_type": "markdown",
      "source": [
        "Q9. What is a constructor in Python?\n",
        "\n",
        "-> A constructor in Python is a special method used to initialize objects of a class. It is automatically called when an object is created. The constructor's primary purpose is to set up the initial state of the object by assigning values to its attributes. In Python, the constructor is named __init__."
      ],
      "metadata": {
        "id": "58PG1WBciBJt"
      }
    },
    {
      "cell_type": "markdown",
      "source": [
        "Q10. What are class and static methods in Python?\n",
        "\n",
        "->Class methods are bound to the class and not the instance of the class. They receive the class itself as the first argument, conventionally named cls. Class methods can access and modify class-level attributes. They are defined using the @classmethod decorator.\n",
        "\n",
        "Static methods are not bound to the class or the instance of the class. They are essentially regular functions that are part of the class namespace. They do not receive any special first argument. Static methods are defined using the @staticmethod decorator."
      ],
      "metadata": {
        "id": "5JDjLK_xiSDF"
      }
    },
    {
      "cell_type": "markdown",
      "source": [
        "Q11. What is method overloading in Python?\n",
        "\n",
        "-> Two or more methods have the same name but different numbers of parameters or different types of parameters, or both. These methods are called overloaded methods and this is called method overloading."
      ],
      "metadata": {
        "id": "oO2zJUntiqf2"
      }
    },
    {
      "cell_type": "markdown",
      "source": [
        "Q12.  What is method overriding in OOP?\n",
        "\n",
        "->  In Object-Oriented Programming (OOP), method overriding allows a subclass to provide a specific implementation of a method that is already defined in its superclass. This enables the subclass to modify or extend the behavior of the inherited method while maintaining the same method signature (name, parameters, and return type). It's a key concept in achieving polymorphism, as the specific method to be called is determined at runtime based on the object's type."
      ],
      "metadata": {
        "id": "SIUYYnP2i8Re"
      }
    },
    {
      "cell_type": "markdown",
      "source": [
        "Q13. What is a property decorator in Python?\n",
        "\n",
        "-> In Python, a property decorator is a built-in feature that allows methods to be accessed like attributes. It provides a way to encapsulate attribute access and modification, enabling control over how attributes are read, written, or deleted. This mechanism is useful for implementing computed attributes, enforcing data validation, and managing attribute access in a clean and Pythonic way.\n",
        "\n",
        "The @property decorator is used to define the getter method, while @value.setter and @value.deleter (where value is the name of the property) define the setter and deleter methods, respectively. When you access obj.value, Python automatically calls the getter method. Similarly, assigning to obj.value calls the setter, and deleting obj.value calls the deleter."
      ],
      "metadata": {
        "id": "RcCxzbTmjLOe"
      }
    },
    {
      "cell_type": "markdown",
      "source": [
        "Q14. Why is polymorphism important in OOP?\n",
        "\n",
        "-> Polymorphism is crucial in Object-Oriented Programming (OOP) because it enables objects of different classes to be treated as objects of a common type, promoting code reusability, flexibility, and maintainability. It allows for a single interface to be used for different operations, while each class can implement it in its own specific way.\n",
        "\n",
        "1. Code Reusability and Extensibility:\n",
        "Polymorphism allows you to write generic code that works with objects of different types, reducing redundancy and promoting code reuse.\n",
        "You can add new subclasses without needing to modify existing code, making the system more extensible.\n",
        "\n",
        "2. Flexibility and Maintainability:\n",
        "Polymorphism enables dynamic method dispatch, where the method to be executed is determined at runtime, providing flexibility in method execution and object interaction.\n",
        "It allows for cleaner and more maintainable code by reducing coupling between different functionalities.\n",
        "\n",
        "3. Enhanced Code Organization:\n",
        "Polymorphism allows you to focus on a parent class or interface, rather than managing numerous special cases, leading to a more organized codebase.\n",
        "It simplifies debugging by providing a clear understanding of how different objects interact with each other.\n",
        "\n",
        "4. Foundation of True Object-Orientedness:\n",
        "Languages that lack polymorphism are considered object-based rather than fully object-oriented.\n",
        "Polymorphism is a fundamental aspect of the OOP paradigm.\n"
      ],
      "metadata": {
        "id": "qP3YJB7Njdd2"
      }
    },
    {
      "cell_type": "markdown",
      "source": [
        "Q15. What is an abstract class in Python?\n",
        "\n",
        "-> An abstract class in Python is a class that cannot be instantiated directly and is designed to serve as a blueprint for other classes. It defines a common interface for its subclasses, ensuring that they implement specific methods. Abstract classes are created using the abc module (Abstract Base Classes) and are particularly useful for enforcing a consistent structure in a hierarchy of classes.\n",
        "\n",
        "Abstract classes can contain abstract methods, which are methods declared without an implementation. Subclasses inheriting from an abstract class are required to provide concrete implementations for these abstract methods. This mechanism ensures that all subclasses adhere to the interface defined by the abstract class. If a subclass fails to implement an abstract method, it will raise a TypeError upon instantiation."
      ],
      "metadata": {
        "id": "NFIT85qikGz1"
      }
    },
    {
      "cell_type": "markdown",
      "source": [
        "Q16. What are the advantages of OOP?\n",
        "\n",
        "-> Object-Oriented Programming (OOP) offers several advantages, primarily enhancing code organization, reusability, and maintainability. Key benefits include modularity, code reuse through inheritance, flexibility with polymorphism, and simplified problem-solving. These advantages make OOP particularly useful for developing large, complex software systems.\n",
        "\n",
        "Modularity:\n",
        "OOP promotes a modular approach by breaking down complex systems into smaller, manageable units called objects. Each object encapsulates its own data and behavior, making the code more organized and easier to understand.\n",
        "\n",
        "Code Reusability:\n",
        "OOP enables code reuse through inheritance, where new classes (child classes) can inherit properties and behaviors from existing classes (parent classes). This reduces redundancy and saves development time.\n",
        "\n",
        "Flexibility and Extensibility:\n",
        "Polymorphism, another core concept in OOP, allows objects of different classes to be treated uniformly through a common interface, making the code flexible and adaptable to changing requirements.\n",
        "\n",
        "Simplified Problem Solving:\n",
        "OOP's modular structure and object-oriented approach make it easier to tackle complex problems by breaking them down into smaller, more manageable pieces.\n",
        "\n",
        "Improved Code Organization and Maintainability:\n",
        "Encapsulation, data hiding, and abstraction in OOP contribute to better code organization, making it easier to maintain, debug, and modify.\n",
        "\n",
        "Enhanced Security:\n",
        "OOP's principles of encapsulation and data hiding can improve code security by limiting access to certain data and functionality.\n",
        "\n",
        "Increased Productivity:\n",
        "OOP's features, such as code reusability and modularity, can significantly increase developer productivity by reducing the need for repetitive coding and simplifying the development process."
      ],
      "metadata": {
        "id": "s4cJDwuskVW-"
      }
    },
    {
      "cell_type": "markdown",
      "source": [
        "Q17. What is the difference between a class variable and an instance variable?\n",
        "\n",
        "-> Instance Variable: It is basically a class variable without a static modifier and is usually shared by all class instances. Across different objects, these variables can have different values. They are tied to a particular object instance of the class, therefore, the contents of an instance variable are totally independent of one object instance to others.\n",
        "\n",
        "Class Variable: It is basically a static variable that can be declared anywhere at class level with static. Across different objects, these variables can have only one value. These variables are not tied to any particular object of the class, therefore, can share across all objects of the class.  "
      ],
      "metadata": {
        "id": "6pcILJcsksce"
      }
    },
    {
      "cell_type": "markdown",
      "source": [
        "Q18. What is multiple inheritance in Python?\n",
        "\n",
        "-> Multiple inheritance in Python is a feature where a class can inherit attributes and methods from multiple parent classes. This allows a class to combine functionalities from different sources, creating a more versatile and specialized class. When defining a class with multiple parent classes, the parent classes are listed within the parentheses in the class definition, separated by commas.\n",
        "\n",
        "ex:- class Base1:\n",
        "    def method1(self):\n",
        "        print(\"Method 1 from Base1\")\n",
        "\n",
        "class Base2:\n",
        "    def method2(self):\n",
        "        print(\"Method 2 from Base2\")\n",
        "\n",
        "class Derived(Base1, Base2):\n",
        "    def method3(self):\n",
        "        print(\"Method 3 from Derived\")"
      ],
      "metadata": {
        "id": "C7geSAHLk73V"
      }
    },
    {
      "cell_type": "markdown",
      "source": [
        "Q19. Explain the purpose of ‘’__str__’ and ‘__repr__’ ‘ methods in Python.\n",
        "\n",
        "-> In Python, __str__ and __repr__ are special methods used to represent objects as strings. They define how an object should be displayed when it is converted to a string using the str() or repr() functions, respectively.\n",
        "\n",
        "__str__: This method is intended to return a human-readable or informal string representation of an object. It is called when the str() function is used or when the print() function is used on an object. If __str__ is not defined, Python falls back to using __repr__ if it is defined.\n",
        "\n",
        "__repr__: This method is intended to return a more unambiguous or formal string representation of an object. Ideally, the string returned by __repr__ should be a valid Python expression that can be used to recreate the object. It is called when the repr() function is used. If __repr__ is not defined, the default representation is used, which is not very informative."
      ],
      "metadata": {
        "id": "EfaSA5eOlhlV"
      }
    },
    {
      "cell_type": "markdown",
      "source": [
        "Q20. What is the significance of the ‘super()’ function in Python?\n",
        "\n",
        "-> The super() function in Python is used to call methods from a parent class in a subclass. It returns a proxy object that delegates method calls to the parent class, enabling a subclass to access and extend the functionality of its parent class. This is particularly useful in inheritance scenarios for achieving code reuse and maintaining the correct order of method execution, especially in multiple inheritance.\n",
        "\n",
        "The primary significance of super() lies in these key aspects:\n",
        "\n",
        "Method Resolution Order (MRO):\n",
        "super() automatically follows the MRO, ensuring that methods are called in the correct order within the inheritance hierarchy. This is crucial for handling complex inheritance structures, especially with multiple inheritance.\n",
        "\n",
        "Avoiding Hardcoding:\n",
        "It avoids the need to explicitly name the parent class, making the code more maintainable and adaptable to changes in the inheritance structure.\n",
        "\n",
        "Initialization of Parent Classes:\n",
        "When used with the __init__() method, super() ensures that the parent class's initialization logic is executed, which is essential for setting up inherited attributes correctly.\n",
        "\n",
        "Extending Functionality:\n",
        "It allows subclasses to extend the functionality of inherited methods without completely overriding them, promoting code reuse and reducing redundancy."
      ],
      "metadata": {
        "id": "6xGVK_CwlwwO"
      }
    },
    {
      "cell_type": "markdown",
      "source": [
        "Q21.  What is the significance of the __del__ method in Python?\n",
        "\n",
        "-> The __del__ method in Python, also known as a destructor, is a special method called when an object is about to be destroyed. It provides an opportunity to perform cleanup actions, such as releasing external resources or finalizing operations, before the object is deallocated from memory.\n",
        "\n",
        "The __del__ method is automatically invoked by Python's garbage collector when all references to an object have been removed. However, the exact timing of its execution is not guaranteed, as it depends on the garbage collection cycle. Therefore, relying solely on __del__ for critical cleanup tasks is generally discouraged.\n",
        "\n",
        "While __del__ can be useful in certain situations, it's important to be aware of its limitations and potential pitfalls. For instance, if an exception occurs within the __del__ method, it may be ignored, and the program execution might continue without proper cleanup. Additionally, the order in which __del__ methods are called for different objects is not deterministic, which can lead to issues when dealing with interdependent objects.\n",
        "\n",
        "As a best practice, it's recommended to use context managers (with statement) or explicit cleanup functions instead of relying on __del__ for resource management. This approach ensures more predictable and reliable cleanup behavior."
      ],
      "metadata": {
        "id": "KgvelV-YmBBm"
      }
    },
    {
      "cell_type": "markdown",
      "source": [
        "Q22. What is the difference between @staticmethod and @classmethod in Python?\n",
        "\n",
        "-> @staticmethod:\n",
        "This decorator defines a method that is bound to the class but does not receive the class or instance as an implicit first argument. It's essentially a regular function placed within the class's namespace for organizational purposes. It cannot access or modify the class or instance state.\n",
        "\n",
        "@classmethod:\n",
        "This decorator defines a method that receives the class itself as the first argument, conventionally named cls. It can access and modify class-level attributes but cannot access instance-specific attributes. It's often used for factory methods or operations involving the class itself.\n",
        "\n",
        "class MyClass:\n",
        "    class_variable = \"Class Variable\"\n",
        "\n",
        "    def __init__(self, instance_variable):\n",
        "        self.instance_variable = instance_variable\n",
        "\n",
        "    @staticmethod\n",
        "    def static_method(x, y):\n",
        "        return x + y\n",
        "\n",
        "    @classmethod\n",
        "    def class_method(cls):\n",
        "        return cls.class_variable\n",
        "\n",
        "Example Usage\n",
        "\n",
        "print(MyClass.static_method(5, 3))  # Output: 8\n",
        "print(MyClass.class_method())      # Output: Class Variable\n",
        "\n",
        "instance = MyClass(\"Instance Variable\")\n",
        "print(instance.static_method(2, 7)) # Output: 9\n",
        "print(instance.class_method())     # Output: Class Variable"
      ],
      "metadata": {
        "id": "0gxVV0N3mT49"
      }
    },
    {
      "cell_type": "markdown",
      "source": [
        "Q23. How does polymorphism work in Python with inheritance?\n",
        "\n",
        "-> Polymorphism, meaning \"many forms,\" enables objects of different classes to respond to the same method call in their own specific ways. When combined with inheritance in Python, polymorphism allows a child class to redefine methods of its parent class, a process known as method overriding.\n",
        "\n",
        "Here's how it works:\n",
        "\n",
        "Inheritance: A child class inherits attributes and methods from a parent class.\n",
        "\n",
        "Method Overriding: The child class can redefine a method inherited from the parent class. This allows the child class to provide its own implementation of the method while keeping the same method name.\n",
        "\n",
        "Polymorphism in Action: When a method is called on an object, Python determines the appropriate method to execute based on the object's actual class. If the method is overridden in the child class, the child class's version is executed; otherwise, the parent class's version is executed.\n",
        "\n",
        "class Animal:\n",
        "    def speak(self):\n",
        "        return \"Generic animal sound\"\n",
        "\n",
        "class Dog(Animal):\n",
        "    def speak(self):\n",
        "        return \"Woof!\"\n",
        "\n",
        "class Cat(Animal):\n",
        "    def speak(self):\n",
        "        return \"Meow!\"\n",
        "\n",
        "animals = [Dog(), Cat(), Animal()]\n",
        "for animal in animals:\n",
        "    print(animal.speak()) # Output: Woof!, Meow!, Generic animal sound"
      ],
      "metadata": {
        "id": "MtxLk0VtmpBF"
      }
    },
    {
      "cell_type": "markdown",
      "source": [
        "Q24. What is method chaining in Python OOP?\n",
        "\n",
        "-> Method chaining in Python is a programming technique used in object-oriented programming. It allows multiple methods to be called sequentially on the same object in a single line of code. This is achieved by having each method return the object instance (self) after its execution.\n",
        "\n",
        "To implement method chaining, each method in a class that is intended to be chained should include return self as its last statement. This ensures that the method returns the instance of the object, allowing the next method in the chain to be called on the same object.\n",
        "\n",
        "class StringManipulator:\n",
        "    def __init__(self, text):\n",
        "        self.text = text\n",
        "\n",
        "    def to_uppercase(self):\n",
        "        self.text = self.text.upper()\n",
        "        return self\n",
        "\n",
        "    def replace_spaces(self, replacement):\n",
        "        self.text = self.text.replace(\" \", replacement)\n",
        "        return self\n",
        "\n",
        "    def add_suffix(self, suffix):\n",
        "        self.text += suffix\n",
        "        return self"
      ],
      "metadata": {
        "id": "Or-rE02Am5tN"
      }
    },
    {
      "cell_type": "markdown",
      "source": [
        "Q25.  What is the purpose of the __call__ method in Python?\n",
        "\n",
        "-> The __call__ method in Python enables instances of a class to be called as if they were functions. When a class defines the __call__ method, it makes its instances \"callable.\" This means you can use parentheses () on the instance, just like you would with a regular function. The __call__ method then defines the behavior that occurs when the instance is called.\n",
        "\n",
        "class Example:\n",
        "    def __init__(self, name):\n",
        "        self.name = name\n",
        "\n",
        "    def __call__(self, greeting):\n",
        "        return f\"{greeting}, {self.name}!\"\n",
        "\n",
        "Create an instance of the Example class\n",
        "\n",
        "obj = Example(\"Alice\")\n",
        "\n",
        "Call the instance as a function\n",
        "\n",
        "message = obj(\"Hello\")\n",
        "print(message)  # Output: Hello, Alice!"
      ],
      "metadata": {
        "id": "DZ72q7hDnLG9"
      }
    },
    {
      "cell_type": "markdown",
      "source": [
        "##Practical Questions"
      ],
      "metadata": {
        "id": "gmB2LK8QnZq1"
      }
    },
    {
      "cell_type": "code",
      "source": [
        "#Q1.  Create a parent class Animal with a method speak() that prints a generic message. Create a child class Dog that overrides the speak() method to print \"Bark!\".\n",
        "\n",
        "class Animal:\n",
        "    def speak(self):\n",
        "        print(\"Genric message\")\n",
        "\n",
        "class Dog(Animal):\n",
        "    def speak(self):\n",
        "        print(\"Bark!\")\n",
        "\n",
        "a=Dog()\n",
        "a.speak()"
      ],
      "metadata": {
        "colab": {
          "base_uri": "https://localhost:8080/"
        },
        "id": "V_4V93q9nh1-",
        "outputId": "2192a4f2-b88b-42ce-a713-764d392c4f7f"
      },
      "execution_count": 3,
      "outputs": [
        {
          "output_type": "stream",
          "name": "stdout",
          "text": [
            "Bark!\n"
          ]
        }
      ]
    },
    {
      "cell_type": "code",
      "source": [
        "#Q2. Write a program to create an abstract class Shape with a method area(). Derive classes Circle and Rectangle from it and implement the area() method in both.\n",
        "\n",
        "from abc import ABC, abstractmethod\n",
        "\n",
        "class Shape(ABC):\n",
        "    @abstractmethod\n",
        "    def area(self):\n",
        "        pass\n",
        "\n",
        "class Circle(Shape):\n",
        "    def __init__(self, radius):\n",
        "        self.radius = radius\n",
        "\n",
        "    def area(self):\n",
        "        return 3.141 * self.radius ** 2\n",
        "\n",
        "class Rectangle(Shape):\n",
        "    def __init__(self, length, breadth):\n",
        "        self.length = length\n",
        "        self.breadth = breadth\n",
        "\n",
        "    def area(self):\n",
        "        return self.length * self.breadth\n",
        "\n",
        "c = Circle(5)\n",
        "print(\"Area of circle:\", c.area())\n",
        "\n",
        "r = Rectangle(5, 6)\n",
        "print(\"Area of rectangle:\", r.area())\n"
      ],
      "metadata": {
        "colab": {
          "base_uri": "https://localhost:8080/"
        },
        "id": "WEBm8u-EzOeE",
        "outputId": "59156101-b970-4838-9d02-cef3fed01a09"
      },
      "execution_count": 12,
      "outputs": [
        {
          "output_type": "stream",
          "name": "stdout",
          "text": [
            "Area of circle: 78.525\n",
            "Area of rectangle: 30\n"
          ]
        }
      ]
    },
    {
      "cell_type": "code",
      "source": [
        " #Q3. Implement a multi-level inheritance scenario where a class Vehicle has an attribute type. Derive a class Car and further derive a class ElectricCar that adds a battery attribute.\n",
        "\n",
        "# Base class\n",
        "class Vehicle:\n",
        "    def __init__(self, vehicle_type):\n",
        "        self.vehicle_type = vehicle_type\n",
        "\n",
        "    def display_type(self):\n",
        "        print(\"Vehicle Type:\", self.vehicle_type)\n",
        "\n",
        "\n",
        "class Car(Vehicle):\n",
        "    def __init__(self, vehicle_type, brand):\n",
        "        super().__init__(vehicle_type)\n",
        "        self.brand = brand\n",
        "\n",
        "    def display_brand(self):\n",
        "        print(\"Car Brand:\", self.brand)\n",
        "\n",
        "\n",
        "class ElectricCar(Car):\n",
        "    def __init__(self, vehicle_type, brand, battery_capacity):\n",
        "        super().__init__(vehicle_type, brand)\n",
        "        self.battery_capacity = battery_capacity\n",
        "\n",
        "    def display_battery(self):\n",
        "        print(\"Battery Capacity:\", self.battery_capacity, \"kWh\")\n",
        "\n",
        "\n",
        "e_car = ElectricCar(\"Four Wheeler\", \"Tesla\", 75)\n",
        "\n",
        "e_car.display_type()       # from Vehicle\n",
        "e_car.display_brand()      # from Car\n",
        "e_car.display_battery()    # from ElectricCar\n"
      ],
      "metadata": {
        "colab": {
          "base_uri": "https://localhost:8080/"
        },
        "id": "l57PRSTF04IF",
        "outputId": "52a7df2d-7bdf-41de-b43e-e1aa13f67248"
      },
      "execution_count": 13,
      "outputs": [
        {
          "output_type": "stream",
          "name": "stdout",
          "text": [
            "Vehicle Type: Four Wheeler\n",
            "Car Brand: Tesla\n",
            "Battery Capacity: 75 kWh\n"
          ]
        }
      ]
    },
    {
      "cell_type": "code",
      "source": [
        "#Q4.  Demonstrate polymorphism by creating a base class Bird with a method fly(). Create two derived classes Sparrow and Penguin that override the fly() method.\n",
        "\n",
        "\n",
        "class Bird:\n",
        "    def fly(self):\n",
        "        print(\"The bird is flying.\")\n",
        "\n",
        "\n",
        "class Sparrow(Bird):\n",
        "    def fly(self):\n",
        "        print(\"Sparrow flies high in the sky.\")\n",
        "\n",
        "\n",
        "class Penguin(Bird):\n",
        "    def fly(self):\n",
        "        print(\"Penguins can't fly, they swim.\")\n",
        "\n",
        "\n",
        "def show_flight(bird):\n",
        "    bird.fly()\n",
        "\n",
        "\n",
        "b1 = Bird()\n",
        "s1 = Sparrow()\n",
        "p1 = Penguin()\n",
        "\n",
        "\n",
        "show_flight(b1)\n",
        "show_flight(s1)\n",
        "show_flight(p1)"
      ],
      "metadata": {
        "colab": {
          "base_uri": "https://localhost:8080/"
        },
        "id": "ZIQbll102jNk",
        "outputId": "9f56b559-a2e8-4db4-9eac-1e7eda344799"
      },
      "execution_count": 14,
      "outputs": [
        {
          "output_type": "stream",
          "name": "stdout",
          "text": [
            "The bird is flying.\n",
            "Sparrow flies high in the sky.\n",
            "Penguins can't fly, they swim.\n"
          ]
        }
      ]
    },
    {
      "cell_type": "code",
      "source": [
        "#Q5.  Write a program to demonstrate encapsulation by creating a class BankAccount with private attributes balance and methods to deposit, withdraw, and check balance.\n",
        "class BankAccount:\n",
        "    def __init__(self, initial_balance=0):\n",
        "        self.__balance = initial_balance  # private attribute\n",
        "\n",
        "    def deposit(self, amount):\n",
        "        if amount > 0:\n",
        "            self.__balance += amount\n",
        "            print(f\"Deposited: {amount}\")\n",
        "        else:\n",
        "            print(\"Deposit amount must be positive.\")\n",
        "\n",
        "    def withdraw(self, amount):\n",
        "        if 0 < amount <= self.__balance:\n",
        "            self.__balance -= amount\n",
        "            print(f\"Withdrawn: {amount}\")\n",
        "        else:\n",
        "            print(\"Insufficient balance or invalid amount.\")\n",
        "\n",
        "    def check_balance(self):\n",
        "        print(f\"Current Balance: {self.__balance}\")\n",
        "\n",
        "\n",
        "account = BankAccount(1000)\n",
        "account.check_balance()\n",
        "\n",
        "account.deposit(500)\n",
        "account.check_balance()\n"
      ],
      "metadata": {
        "colab": {
          "base_uri": "https://localhost:8080/"
        },
        "id": "4Vzg9iUo28Nu",
        "outputId": "4cfa8c3b-7f83-4940-e1ac-b19ec868e69b"
      },
      "execution_count": 15,
      "outputs": [
        {
          "output_type": "stream",
          "name": "stdout",
          "text": [
            "Current Balance: 1000\n",
            "Deposited: 500\n",
            "Current Balance: 1500\n"
          ]
        }
      ]
    },
    {
      "cell_type": "code",
      "source": [
        "#Q6.Demonstrate runtime polymorphism using a method play() in a base class Instrument. Derive classes Guitar and Piano that implement their own version of play().\n",
        "\n",
        "class Instrument:\n",
        "    def play(self):\n",
        "        print(\"Playing an instrument.\")\n",
        "\n",
        "\n",
        "class Guitar(Instrument):\n",
        "    def play(self):\n",
        "        print(\"Strumming the guitar.\")\n",
        "\n",
        "\n",
        "class Piano(Instrument):\n",
        "    def play(self):\n",
        "        print(\"Playing the piano.\")\n",
        "\n",
        "\n",
        "def perform(instrument):\n",
        "    instrument.play()\n",
        "\n",
        "\n",
        "i = Instrument()\n",
        "g = Guitar()\n",
        "p = Piano()\n",
        "\n",
        "perform(i)\n",
        "perform(g)\n",
        "perform(p)\n"
      ],
      "metadata": {
        "colab": {
          "base_uri": "https://localhost:8080/"
        },
        "id": "yjQIQfeF3H_z",
        "outputId": "fcc965e3-1d33-419b-c05b-7754444c93c8"
      },
      "execution_count": 16,
      "outputs": [
        {
          "output_type": "stream",
          "name": "stdout",
          "text": [
            "Playing an instrument.\n",
            "Strumming the guitar.\n",
            "Playing the piano.\n"
          ]
        }
      ]
    },
    {
      "cell_type": "code",
      "source": [
        "# Q7. Create a class MathOperations with a class method add_numbers() to add two numbers and a static method subtract_numbers() to subtract two numbers.\n",
        "class MathOperations:\n",
        "    @classmethod\n",
        "    def add_numbers(cls, a, b):\n",
        "        return a + b\n",
        "\n",
        "    @staticmethod\n",
        "    def subtract_numbers(a, b):\n",
        "        return a - b\n",
        "\n",
        "print(\"Addition:\", MathOperations.add_numbers(10, 5))\n",
        "print(\"Subtraction:\", MathOperations.subtract_numbers(10, 5))\n"
      ],
      "metadata": {
        "colab": {
          "base_uri": "https://localhost:8080/"
        },
        "id": "1K90fbzF3XpT",
        "outputId": "e9ca8342-5842-4f51-b4a9-3dbd3cf92403"
      },
      "execution_count": 17,
      "outputs": [
        {
          "output_type": "stream",
          "name": "stdout",
          "text": [
            "Addition: 15\n",
            "Subtraction: 5\n"
          ]
        }
      ]
    },
    {
      "cell_type": "code",
      "source": [
        "# Q8. Implement a class Person with a class method to count the total number of persons created.\n",
        "class Person:\n",
        "    count = 0\n",
        "\n",
        "    def __init__(self, name):\n",
        "        self.name = name\n",
        "        Person.count += 1\n",
        "\n",
        "    @classmethod\n",
        "    def total_persons(cls):\n",
        "        return cls.count\n",
        "\n",
        "p1 = Person(\"Alice\")\n",
        "p2 = Person(\"Bob\")\n",
        "print(\"Total persons created:\", Person.total_persons())\n"
      ],
      "metadata": {
        "colab": {
          "base_uri": "https://localhost:8080/"
        },
        "id": "X5_cMbw63rwr",
        "outputId": "e8219251-a9eb-448f-c655-566f7107eb56"
      },
      "execution_count": 18,
      "outputs": [
        {
          "output_type": "stream",
          "name": "stdout",
          "text": [
            "Total persons created: 2\n"
          ]
        }
      ]
    },
    {
      "cell_type": "code",
      "source": [
        "# Q9. Write a class Fraction with attributes numerator and denominator. Override the str method to display the fraction as \"numerator/denominator\".\n",
        "class Fraction:\n",
        "    def __init__(self, numerator, denominator):\n",
        "        self.numerator = numerator\n",
        "        self.denominator = denominator\n",
        "\n",
        "    def __str__(self):\n",
        "        return f\"{self.numerator}/{self.denominator}\"\n",
        "\n",
        "f = Fraction(3, 4)\n",
        "print(f)\n"
      ],
      "metadata": {
        "colab": {
          "base_uri": "https://localhost:8080/"
        },
        "id": "Sgmy_jQw3uEj",
        "outputId": "fc30ab66-f7a5-4a53-9052-9331e86b0153"
      },
      "execution_count": 19,
      "outputs": [
        {
          "output_type": "stream",
          "name": "stdout",
          "text": [
            "3/4\n"
          ]
        }
      ]
    },
    {
      "cell_type": "code",
      "source": [
        "# Q10. Demonstrate operator overloading by creating a class Vector and overriding the add method to add two vectors.\n",
        "class Vector:\n",
        "    def __init__(self, x, y):\n",
        "        self.x = x\n",
        "        self.y = y\n",
        "\n",
        "    def __add__(self, other):\n",
        "        return Vector(self.x + other.x, self.y + other.y)\n",
        "\n",
        "    def __str__(self):\n",
        "        return f\"Vector({self.x}, {self.y})\"\n",
        "\n",
        "v1 = Vector(2, 3)\n",
        "v2 = Vector(4, 5)\n",
        "v3 = v1 + v2\n",
        "print(v3)\n"
      ],
      "metadata": {
        "colab": {
          "base_uri": "https://localhost:8080/"
        },
        "id": "IF_uVwts3vlL",
        "outputId": "b3095b83-5e2f-401e-b9ca-7078db327217"
      },
      "execution_count": 20,
      "outputs": [
        {
          "output_type": "stream",
          "name": "stdout",
          "text": [
            "Vector(6, 8)\n"
          ]
        }
      ]
    },
    {
      "cell_type": "code",
      "source": [
        "# Q11. Create a class Person with attributes name and age. Add a method greet() that prints \"Hello, my name is {name} and I am {age} years old.\"\n",
        "class Person:\n",
        "    def __init__(self, name, age):\n",
        "        self.name = name\n",
        "        self.age = age\n",
        "\n",
        "    def greet(self):\n",
        "        print(f\"Hello, my name is {self.name} and I am {self.age} years old.\")\n",
        "\n",
        "p = Person(\"John\", 25)\n",
        "p.greet()\n"
      ],
      "metadata": {
        "colab": {
          "base_uri": "https://localhost:8080/"
        },
        "id": "MCdoETq63y5r",
        "outputId": "150191b4-6a77-4f38-c60e-e948e2d733cf"
      },
      "execution_count": 21,
      "outputs": [
        {
          "output_type": "stream",
          "name": "stdout",
          "text": [
            "Hello, my name is John and I am 25 years old.\n"
          ]
        }
      ]
    },
    {
      "cell_type": "code",
      "source": [
        "# Q12. Implement a class Student with attributes name and grades. Create a method average_grade() to compute the average of the grades.\n",
        "class Student:\n",
        "    def __init__(self, name, grades):\n",
        "        self.name = name\n",
        "        self.grades = grades\n",
        "\n",
        "    def average_grade(self):\n",
        "        return sum(self.grades) / len(self.grades)\n",
        "\n",
        "s = Student(\"Emily\", [80, 90, 85])\n",
        "print(\"Average grade:\", s.average_grade())\n"
      ],
      "metadata": {
        "colab": {
          "base_uri": "https://localhost:8080/"
        },
        "id": "VOWe8TZK308r",
        "outputId": "3d443375-c941-48ae-e711-0533d55f0450"
      },
      "execution_count": 22,
      "outputs": [
        {
          "output_type": "stream",
          "name": "stdout",
          "text": [
            "Average grade: 85.0\n"
          ]
        }
      ]
    },
    {
      "cell_type": "code",
      "source": [
        "# Q13. Create a class Rectangle with methods set_dimensions() to set the dimensions and area() to calculate the area.\n",
        "class Rectangle:\n",
        "    def set_dimensions(self, length, width):\n",
        "        self.length = length\n",
        "        self.width = width\n",
        "\n",
        "    def area(self):\n",
        "        return self.length * self.width\n",
        "\n",
        "r = Rectangle()\n",
        "r.set_dimensions(4, 5)\n",
        "print(\"Area of rectangle:\", r.area())\n"
      ],
      "metadata": {
        "colab": {
          "base_uri": "https://localhost:8080/"
        },
        "id": "wgp3sMAR33zD",
        "outputId": "4fa91353-1732-4e0f-d3da-8d73f4a8e808"
      },
      "execution_count": 23,
      "outputs": [
        {
          "output_type": "stream",
          "name": "stdout",
          "text": [
            "Area of rectangle: 20\n"
          ]
        }
      ]
    },
    {
      "cell_type": "code",
      "source": [
        "# Q14. Create a class Employee with a method calculate_salary() that computes the salary based on hours worked and hourly rate. Create a derived class Manager that adds a bonus to the salary.\n",
        "class Employee:\n",
        "    def calculate_salary(self, hours_worked, hourly_rate):\n",
        "        return hours_worked * hourly_rate\n",
        "\n",
        "class Manager(Employee):\n",
        "    def calculate_salary(self, hours_worked, hourly_rate, bonus):\n",
        "        base_salary = super().calculate_salary(hours_worked, hourly_rate)\n",
        "        return base_salary + bonus\n",
        "\n",
        "m = Manager()\n",
        "print(\"Manager salary:\", m.calculate_salary(40, 50, 500))\n"
      ],
      "metadata": {
        "colab": {
          "base_uri": "https://localhost:8080/"
        },
        "id": "ULEkmX1X35tL",
        "outputId": "cc7b4496-eb44-471e-c8a2-7cea0d9ce02a"
      },
      "execution_count": 24,
      "outputs": [
        {
          "output_type": "stream",
          "name": "stdout",
          "text": [
            "Manager salary: 2500\n"
          ]
        }
      ]
    },
    {
      "cell_type": "code",
      "source": [
        "# Q15. Create a class Product with attributes name, price, and quantity. Implement a method total_price() that calculates the total price of the product.\n",
        "class Product:\n",
        "    def __init__(self, name, price, quantity):\n",
        "        self.name = name\n",
        "        self.price = price\n",
        "        self.quantity = quantity\n",
        "\n",
        "    def total_price(self):\n",
        "        return self.price * self.quantity\n",
        "\n",
        "p = Product(\"Laptop\", 1000, 3)\n",
        "print(\"Total price:\", p.total_price())\n"
      ],
      "metadata": {
        "colab": {
          "base_uri": "https://localhost:8080/"
        },
        "id": "gvcxtygn37PD",
        "outputId": "a3acd344-99a5-44bd-bb28-eb3df999fc31"
      },
      "execution_count": 25,
      "outputs": [
        {
          "output_type": "stream",
          "name": "stdout",
          "text": [
            "Total price: 3000\n"
          ]
        }
      ]
    },
    {
      "cell_type": "code",
      "source": [
        "# Q16. Create a class Animal with an abstract method sound(). Create two derived classes Cow and Sheep that implement the sound() method.\n",
        "from abc import ABC, abstractmethod\n",
        "\n",
        "class Animal(ABC):\n",
        "    @abstractmethod\n",
        "    def sound(self):\n",
        "        pass\n",
        "\n",
        "class Cow(Animal):\n",
        "    def sound(self):\n",
        "        return \"Moo\"\n",
        "\n",
        "class Sheep(Animal):\n",
        "    def sound(self):\n",
        "        return \"Baa\"\n",
        "\n",
        "c = Cow()\n",
        "s = Sheep()\n",
        "print(\"Cow sound:\", c.sound())\n",
        "print(\"Sheep sound:\", s.sound())\n"
      ],
      "metadata": {
        "id": "pvJ6tTKs39cz"
      },
      "execution_count": null,
      "outputs": []
    },
    {
      "cell_type": "code",
      "source": [
        "# Q17. Create a class Book with attributes title, author, and year_published. Add a method get_book_info() that returns a formatted string with the book's details.\n",
        "class Book:\n",
        "    def __init__(self, title, author, year_published):\n",
        "        self.title = title\n",
        "        self.author = author\n",
        "        self.year_published = year_published\n",
        "\n",
        "    def get_book_info(self):\n",
        "        return f\"'{self.title}' by {self.author}, published in {self.year_published}\"\n",
        "\n",
        "b = Book(\"1984\", \"George Orwell\", 1949)\n",
        "print(b.get_book_info())\n"
      ],
      "metadata": {
        "colab": {
          "base_uri": "https://localhost:8080/"
        },
        "id": "7IGR7_Fd3-8T",
        "outputId": "8acaeb97-6c24-4aa4-85f9-a0cd86010e69"
      },
      "execution_count": 26,
      "outputs": [
        {
          "output_type": "stream",
          "name": "stdout",
          "text": [
            "'1984' by George Orwell, published in 1949\n"
          ]
        }
      ]
    },
    {
      "cell_type": "code",
      "source": [
        "# Q18. Create a class House with attributes address and price. Create a derived class Mansion that adds an attribute number_of_rooms.\n",
        "class House:\n",
        "    def __init__(self, address, price):\n",
        "        self.address = address\n",
        "        self.price = price\n",
        "\n",
        "class Mansion(House):\n",
        "    def __init__(self, address, price, number_of_rooms):\n",
        "        super().__init__(address, price)\n",
        "        self.number_of_rooms = number_of_rooms\n",
        "\n",
        "m = Mansion(\"123 Luxury St\", 1000000, 10)\n",
        "print(f\"Address: {m.address}, Price: {m.price}, Rooms: {m.number_of_rooms}\")\n"
      ],
      "metadata": {
        "colab": {
          "base_uri": "https://localhost:8080/"
        },
        "id": "NOOS4KQh4A_D",
        "outputId": "7add9835-300b-4d9c-8b29-4effc31424c5"
      },
      "execution_count": 27,
      "outputs": [
        {
          "output_type": "stream",
          "name": "stdout",
          "text": [
            "Address: 123 Luxury St, Price: 1000000, Rooms: 10\n"
          ]
        }
      ]
    }
  ]
}